{
 "cells": [
  {
   "cell_type": "code",
   "execution_count": 4,
   "metadata": {},
   "outputs": [
    {
     "name": "stdout",
     "output_type": "stream",
     "text": [
      "{}\n",
      "b\n"
     ]
    }
   ],
   "source": [
    "nuevo_dictionario=dict()\n",
    "print(nuevo_dictionario)\n",
    "\n",
    "\n",
    "nuevo_dictionario[\"a\"]=10\n",
    "nuevo_dictionario[\"b\"]=20\n",
    "nuevo_dictionario[\"c\"]=50\n",
    "\n",
    "def Busquedad(nuevo_dictionario,valor):\n",
    "    for clave in nuevo_dictionario:\n",
    "        if nuevo_dictionario[clave] ==valor:\n",
    "            return clave\n",
    "        \n",
    "busqueda_clave=Busquedad(nuevo_dictionario,20)\n",
    "print(busqueda_clave)"
   ]
  },
  {
   "cell_type": "code",
   "execution_count": null,
   "metadata": {},
   "outputs": [],
   "source": [
    "#simular 1000 tirada de dados\n",
    "#hallar funcion que simule la tirada de par dado de 6 lados (suma), no se tomara ningun parametro"
   ]
  },
  {
   "cell_type": "code",
   "execution_count": 2,
   "metadata": {},
   "outputs": [
    {
     "name": "stdout",
     "output_type": "stream",
     "text": [
      "('juan', 20, 10.0)\n",
      "('miguel', 30, 15.0)\n",
      "('aaron', 10, 13.0)\n"
     ]
    }
   ],
   "source": [
    "#EJERCICIO REGISTRO DE ESTUDIANTES\n",
    "\n",
    "#1.Escribir programa que solicite que el usuario ingrese nombre , edad y nota de 3 estudiantes\n",
    "#2.La informacion debe almacenarse en tuplas\n",
    "#3.La informacion de cada estudiante debe imprimirse en lineas separadas\n",
    "\n",
    "z=3\n",
    "t_nombre=[]\n",
    "t_edad=[]\n",
    "t_nota=[]\n",
    "\n",
    "while z>0:\n",
    "    nombre=input(\"Ingresar nombre del estudiante: \")\n",
    "    t_nombre.append(nombre)\n",
    "    edad=int(input(\"Ingresar edad del estudiante: \"))\n",
    "    t_edad.append(edad)\n",
    "    nota=float(input(\"Ingrese edad del estudinte: \"))\n",
    "    t_nota.append(nota)\n",
    "    z-=1\n",
    "\n",
    "nombre_edad_nota=zip(t_nombre,t_edad,t_nota)\n",
    "t_final=tuple(nombre_edad_nota)\n",
    "for elemento in t_final:\n",
    "    print(elemento)\n"
   ]
  },
  {
   "cell_type": "code",
   "execution_count": 11,
   "metadata": {},
   "outputs": [
    {
     "name": "stdout",
     "output_type": "stream",
     "text": [
      "(7.6, 4.586937976471886)\n"
     ]
    }
   ],
   "source": [
    "#EJERCICIO CALCULAR PROMEDIO Y DESVIACION ESTANDAR\n",
    "#1.Escriba funcion llamada promedio_desviacion\n",
    "#2.Debe tomar como parametro una tupla de numero y devolver un tupla de su promedio y desviacion\n",
    "#  estandar\n",
    "\n",
    "import math\n",
    "lista_valores=[]\n",
    "\n",
    "def promedio_desviacion(t_numeros):\n",
    "    promedio=sum(t_numeros)/len(t_numeros)\n",
    "    lista_valores.append(promedio)\n",
    "    suma_total=0\n",
    "    for elemento in t_numeros:\n",
    "        sumaindividual= (elemento-promedio)**2\n",
    "        suma_total+=sumaindividual\n",
    "    des_estandar=math.sqrt(suma_total/len(t_numeros))\n",
    "    lista_valores.append(des_estandar)\n",
    "    return tuple(lista_valores)\n",
    "\n",
    "resultado_prom_ds=promedio_desviacion((2,4,7,10,15))\n",
    "print(resultado_prom_ds)\n",
    "\n"
   ]
  },
  {
   "cell_type": "code",
   "execution_count": 6,
   "metadata": {},
   "outputs": [
    {
     "name": "stdout",
     "output_type": "stream",
     "text": [
      "El promedio es: 7.6\n",
      "La desviación estándar es: 5.128352561983234\n"
     ]
    }
   ],
   "source": [
    "import statistics\n",
    "\n",
    "# Conjunto de números\n",
    "numeros = [2, 4, 7, 10, 15]\n",
    "\n",
    "# Calcular el promedio (media)\n",
    "promedio = statistics.mean(numeros)\n",
    "\n",
    "# Calcular la desviación estándar\n",
    "desviacion_estandar = statistics.stdev(numeros)\n",
    "\n",
    "# Imprimir los resultados\n",
    "print(\"El promedio es:\", promedio)\n",
    "print(\"La desviación estándar es:\", desviacion_estandar)\n"
   ]
  },
  {
   "cell_type": "code",
   "execution_count": 12,
   "metadata": {},
   "outputs": [
    {
     "name": "stdout",
     "output_type": "stream",
     "text": [
      "(6, 12)\n"
     ]
    }
   ],
   "source": [
    "#EJERCICIO MULTIPLICACION DE COORDENADAS\n",
    "\n",
    "#1. Escribir una funcion llamada \"multiplicar coordenadas\"que tome dos tuplas de la forma (x,y)\n",
    "#2. La funcion debe devolver una nueva tupla que contegan la multiplicacion correspondiente \n",
    "\n",
    "\n",
    "def multiplicar_coordinadas(tp_1,tp_2):\n",
    "    x,y=tp_1\n",
    "    z,w=tp_2\n",
    "    nueva_tupla=((x*z),(y*w))\n",
    "    return nueva_tupla\n",
    "\n",
    "producto_tuplas=multiplicar_coordinadas((2,3),(3,4))\n",
    "print(producto_tuplas)"
   ]
  }
 ],
 "metadata": {
  "kernelspec": {
   "display_name": "Python 3",
   "language": "python",
   "name": "python3"
  },
  "language_info": {
   "codemirror_mode": {
    "name": "ipython",
    "version": 3
   },
   "file_extension": ".py",
   "mimetype": "text/x-python",
   "name": "python",
   "nbconvert_exporter": "python",
   "pygments_lexer": "ipython3",
   "version": "3.10.0"
  }
 },
 "nbformat": 4,
 "nbformat_minor": 2
}
