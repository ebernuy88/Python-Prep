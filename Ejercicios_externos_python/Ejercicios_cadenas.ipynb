{
 "cells": [
  {
   "cell_type": "code",
   "execution_count": 1,
   "metadata": {},
   "outputs": [
    {
     "name": "stdout",
     "output_type": "stream",
     "text": [
      "El numero de palabras de la oracion es 9\n"
     ]
    }
   ],
   "source": [
    "#EJERCICIO 1\n",
    "\n",
    "def contador_palabras(oracion):\n",
    "    subcadenas=oracion.split(\" \")\n",
    "    cantidad_palabras=len(subcadenas)\n",
    "    return cantidad_palabras\n",
    "\n",
    "mensaje=input(\"Ingrese una oracion: \")\n",
    "numero_palabras=contador_palabras(mensaje)\n",
    "print(f\"El numero de palabras de la oracion es {numero_palabras}\")"
   ]
  },
  {
   "cell_type": "code",
   "execution_count": 16,
   "metadata": {},
   "outputs": [
    {
     "name": "stdout",
     "output_type": "stream",
     "text": [
      "Hello Carlos Gonzales! You just delved into python.\n"
     ]
    }
   ],
   "source": [
    "#EJERCICIO 2\n",
    "\n",
    "#1. Tienes el nombre y apellido en dos lineas diferentes\n",
    "#2. Tienes que obtener lo siguiente: Hello firstname lastname! You just delved into python.\n",
    "#3. Escribe una funcion con dos parametros: nombre y apellido\n",
    "#4. El tamaño de nombre y apellido son menores iguales a 10\n",
    "\n",
    "def print_full_name(first, last):\n",
    "    if len(first)<=10 and len(last)<=10:  \n",
    "        nuevo_string= first+\" \"+last \n",
    "        return f\"Hello {nuevo_string}! You just delved into python.\"\n",
    "    else:\n",
    "        return \"Ingresar cadenas con tamaño menor igual a 10: \"\n",
    "\n",
    "nombre=\"Carlos\"\n",
    "apellido=\"Gonzales\"\n",
    "\n",
    "const_frase=print_full_name(nombre,apellido)\n",
    "print(const_frase)\n",
    "\n"
   ]
  },
  {
   "cell_type": "code",
   "execution_count": null,
   "metadata": {},
   "outputs": [],
   "source": [
    "#EJERCICIO JUEGO DE MINION\n",
    "\n",
    "#1. KEVIN AND STUART TIENE EL MISMO STRING S=\"BANANA\"\n",
    "#2. AMBOS TIENE QUE HACER PALABRAS USANDO LAS LETRAS DE BANANA\n",
    "#3. STUART TIENE QUE HACER PALABRAS QUE EMPIEZEN CON CONSONANTES (B Y N)\n",
    "#4. KEVIN TIENE QUE HACER PALABRAS QUE EMPIEZE CON VOCALES (A)\n",
    "#5. CADA JUGADOR GANARA UN PUNTO POR CADA PALABRA QUE SE REPITA EN BANANA  \n",
    "#EL JUEGO TERMIAN CUANDO AMBOS HAN HECHO TODAS LAS POSIBLES PALABRAS\n",
    "#TENEMOS QUE DETERMINAR EL GANADOR Y EL PUNTAJE REALIZADO A TRAVES DE UNA FUNCION, SOLO SE\n",
    "#RECIBIRA COMO PARAMETRO EL STRING\n",
    "\n",
    "\n",
    "S=\"BANANA\"\n",
    "vocal=\"AEIOU\"\n",
    "\n",
    "for caracter in S:\n",
    "    if caracter in vocal:\n"
   ]
  },
  {
   "cell_type": "code",
   "execution_count": 7,
   "metadata": {},
   "outputs": [
    {
     "name": "stdout",
     "output_type": "stream",
     "text": [
      "Soy El Mejor\n"
     ]
    }
   ],
   "source": [
    "#EJERCICIO sWAP cASE\n",
    "\n",
    "\n",
    "#1.Se te da un string y tienes que poner todas las mayusculas en minusculas y todas\n",
    "#mayuscula en minusculas\n",
    "\n",
    "#2.hacer una funcion que realize ello , teniendo como unico parametro el string a convertir \n",
    "# y el retorno deberia ser el string modificado\n",
    "\n",
    "\n",
    "def casos_intercambios(cadena):\n",
    "    for caracter in cadena:\n",
    "        if  caracter==caracter.upper():\n",
    "            caracter_min=caracter.lower()       \n",
    "        elif caracter==caracter.lower():\n",
    "            caracter_may=caracter.upper()\n",
    "    return cadena\n",
    "\n",
    "intercambios=casos_intercambios(\"Soy El Mejor\")\n",
    "print(intercambios) "
   ]
  }
 ],
 "metadata": {
  "kernelspec": {
   "display_name": "Python 3",
   "language": "python",
   "name": "python3"
  },
  "language_info": {
   "codemirror_mode": {
    "name": "ipython",
    "version": 3
   },
   "file_extension": ".py",
   "mimetype": "text/x-python",
   "name": "python",
   "nbconvert_exporter": "python",
   "pygments_lexer": "ipython3",
   "version": "3.10.0"
  }
 },
 "nbformat": 4,
 "nbformat_minor": 2
}
