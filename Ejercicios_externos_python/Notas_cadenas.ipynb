{
 "cells": [
  {
   "cell_type": "code",
   "execution_count": null,
   "metadata": {},
   "outputs": [],
   "source": [
    "#CADENAS"
   ]
  },
  {
   "cell_type": "code",
   "execution_count": null,
   "metadata": {},
   "outputs": [],
   "source": [
    "#1.Creación de cadenas:\n",
    "\n",
    "cadena1 = 'Hola'  # Utilizando comillas simples\n",
    "cadena2 = \"mundo\"  # Utilizando comillas dobles\n",
    "cadena3 = '''Hola\n",
    "            mundo'''  # Utilizando triple comillas simples para cadenas multilínea\n",
    "cadena4 = \"\"\"Hola \n",
    "            mundo\"\"\"  # Utilizando triple comillas dobles para cadenas multilínea\n"
   ]
  },
  {
   "cell_type": "code",
   "execution_count": null,
   "metadata": {},
   "outputs": [],
   "source": [
    "#2.Acceso a caracteres:\n",
    "\n",
    "cadena = \"Hola mundo\"\n",
    "primer_caracter = cadena[0]  # H\n",
    "ultimo_caracter = cadena[-1]  # o\n"
   ]
  },
  {
   "cell_type": "code",
   "execution_count": null,
   "metadata": {},
   "outputs": [],
   "source": [
    "#3.Slicing (rebanado):\n",
    "\n",
    "subcadena = cadena[1:5]  # ola"
   ]
  },
  {
   "cell_type": "code",
   "execution_count": null,
   "metadata": {},
   "outputs": [],
   "source": [
    "#4.Concatenación:\n",
    "\n",
    "nueva_cadena = cadena1 + \" \" + cadena2  # Hola mundo"
   ]
  },
  {
   "cell_type": "code",
   "execution_count": null,
   "metadata": {},
   "outputs": [],
   "source": [
    "#5.Repetición:\n",
    "\n",
    "cadena_repetida = \"Hola\" * 3  # HolaHolaHola"
   ]
  },
  {
   "cell_type": "code",
   "execution_count": null,
   "metadata": {},
   "outputs": [],
   "source": [
    "#6. Inmutabilidad:\n",
    "\n",
    "#Las cadenas en Python son inmutables, lo que significa que no se pueden modificar después de ser \n",
    "#creadas. Si necesitas realizar cambios, debes crear una nueva cadena."
   ]
  },
  {
   "cell_type": "code",
   "execution_count": null,
   "metadata": {},
   "outputs": [],
   "source": [
    "#7.upper(): Devuelve una copia de la cadena con todos los caracteres convertidos a mayúsculas.\n",
    "\n",
    "cadena = \"hola mundo\"\n",
    "print(cadena.upper())  # Salida: HOLA MUNDO"
   ]
  },
  {
   "cell_type": "code",
   "execution_count": null,
   "metadata": {},
   "outputs": [],
   "source": [
    "#8.lower():Devuelve una copia de la cadena con todos los caracteres convertidos a minúsculas.\n",
    "\n",
    "cadena = \"HOLA MUNDO\"\n",
    "print(cadena.lower())  # Salida: hola mundo"
   ]
  },
  {
   "cell_type": "code",
   "execution_count": null,
   "metadata": {},
   "outputs": [],
   "source": [
    "#9.strip(): Elimina los espacios en blanco al principio y al final de la cadena.\n",
    "\n",
    "cadena = \"   hola mundo   \"\n",
    "print(cadena.strip())  # Salida: hola mundo\n"
   ]
  },
  {
   "cell_type": "code",
   "execution_count": null,
   "metadata": {},
   "outputs": [],
   "source": [
    "#10.replace(old, new):Reemplaza todas las ocurrencias de la subcadena old por la subcadena new.\n",
    "\n",
    "cadena = \"Hola mundo\"\n",
    "nueva_cadena = cadena.replace(\"mundo\", \"Python\")\n",
    "print(nueva_cadena)  # Salida: Hola Python\n"
   ]
  },
  {
   "cell_type": "code",
   "execution_count": null,
   "metadata": {},
   "outputs": [],
   "source": [
    "#11.split(sep):Divide la cadena en una lista de subcadenas utilizando el separador especificado.\n",
    "\n",
    "cadena = \"Hola,mundo\"\n",
    "subcadenas = cadena.split(\",\")\n",
    "print(subcadenas)  # Salida: ['Hola', 'mundo']\n"
   ]
  },
  {
   "cell_type": "code",
   "execution_count": null,
   "metadata": {},
   "outputs": [],
   "source": [
    "#12.join(iterable):Une los elementos de un iterable (como una lista) en una sola cadena utilizando\n",
    "# la cadena como separador.\n",
    "\n",
    "subcadenas = ['Hola', 'mundo']\n",
    "cadena = \",\".join(subcadenas)\n",
    "print(cadena)  # Salida: Hola,mundo\n"
   ]
  },
  {
   "cell_type": "code",
   "execution_count": null,
   "metadata": {},
   "outputs": [],
   "source": [
    "#13.startswith(prefix): Devuelve True si la cadena comienza con el prefijo especificado,\n",
    "#False de lo contrario.\n",
    "\n",
    "cadena = \"Hola mundo\"\n",
    "print(cadena.startswith(\"Hola\"))  # Salida: True\n"
   ]
  },
  {
   "cell_type": "code",
   "execution_count": null,
   "metadata": {},
   "outputs": [],
   "source": [
    "#14.endswith(suffix): Devuelve True si la cadena termina con el sufijo especificado, \n",
    "#False de lo contrario.\n",
    "\n",
    "cadena = \"Hola mundo\"\n",
    "print(cadena.endswith(\"mundo\"))  # Salida: True\n"
   ]
  },
  {
   "cell_type": "code",
   "execution_count": null,
   "metadata": {},
   "outputs": [],
   "source": [
    "#15.len():devuelve la longitud de una cadena\n",
    "\n",
    "cadena = \"Hola mundo\"\n",
    "longitud = len(cadena)  # longitud es 10\n"
   ]
  },
  {
   "cell_type": "code",
   "execution_count": null,
   "metadata": {},
   "outputs": [],
   "source": [
    "#16.str():que convierte otros tipos de datos en cadenas.\n",
    "\n",
    "numero = 42\n",
    "cadena = str(numero)\n",
    "print(cadena)  # Salida: \"42\"\n"
   ]
  },
  {
   "cell_type": "code",
   "execution_count": null,
   "metadata": {},
   "outputs": [],
   "source": [
    "#17.find(): se utiliza para encontrar la primera aparición de una subcadena \n",
    "#dentro de otra cadena.\n",
    "\n",
    "cadena = \"Hola mundo\"\n",
    "indice = cadena.find(\"mundo\")\n",
    "print(indice)  # Salida: 5\n",
    "\n",
    "#busca la subcadena especificada dentro de la cadena y devuelve el índice de la primera \n",
    "#ocurrencia de la subcadena.\n",
    "\n",
    "#Si la subcadena no se encuentra, devuelve -1\n",
    "\n",
    "#Si se encuentra, devuelve el índice de la primera letra de la subcadena dentro de la cadena.\n",
    "\n",
    "#Si se especifica un segundo argumento opcional inicio, la búsqueda comienza desde ese índice \n",
    "#en lugar de desde el principio de la cadena\n",
    "\n",
    "cadena = \"Hola mundo\"\n",
    "indice = cadena.find(\"mundo\", 3)\n",
    "print(indice)  # Salida: -1 (no se encuentra, la búsqueda comienza en el índice 3)\n"
   ]
  }
 ],
 "metadata": {
  "kernelspec": {
   "display_name": "Python 3",
   "language": "python",
   "name": "python3"
  },
  "language_info": {
   "codemirror_mode": {
    "name": "ipython",
    "version": 3
   },
   "file_extension": ".py",
   "mimetype": "text/x-python",
   "name": "python",
   "nbconvert_exporter": "python",
   "pygments_lexer": "ipython3",
   "version": "3.10.undefined"
  }
 },
 "nbformat": 4,
 "nbformat_minor": 2
}
