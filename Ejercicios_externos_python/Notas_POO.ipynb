{
 "cells": [
  {
   "cell_type": "code",
   "execution_count": null,
   "metadata": {},
   "outputs": [],
   "source": [
    "#1.CLASES Y OBJETOS:  \n",
    "\n",
    "#CLASES: plantilla para crear objetos que comparten características comunes.\n",
    "#OBJETOS:instancia específica de una clase, con sus propios datos y comportamiento.\n",
    "\n",
    "class Persona:\n",
    "    def __init__(self, nombre, edad):\n",
    "        self.nombre = nombre\n",
    "        self.edad = edad\n",
    "\n",
    "persona1 = Persona(\"Juan\", 30)\n",
    "persona2 = Persona(\"María\", 25)"
   ]
  },
  {
   "cell_type": "code",
   "execution_count": null,
   "metadata": {},
   "outputs": [],
   "source": [
    "#2.ATRIBUTOS:  son variables asociadas a un objeto y describen su estado\n",
    "\n",
    "#Son de 2 tipos\n",
    "\n",
    "#a.atributos de instancia:pertenece a un objeto\n",
    "\n",
    "#b. atributos de clase: compartido por todos los objetos de la clase\n",
    "\n",
    "class Circulo:\n",
    "    pi = 3.1416  # Atributo de clase\n",
    "\n",
    "    def __init__(self, radio):\n",
    "        self.radio = radio  # Atributo de instancia\n",
    "\n",
    "circulo1 = Circulo(5)\n",
    "print(circulo1.radio)\n"
   ]
  },
  {
   "cell_type": "code",
   "execution_count": 1,
   "metadata": {},
   "outputs": [
    {
     "name": "stdout",
     "output_type": "stream",
     "text": [
      "Hola, soy Juan\n"
     ]
    }
   ],
   "source": [
    "#3.METODOS: funciones definidas dentro de una clase y operan en los objetos de esa clase.\n",
    "\n",
    "#a.metodos de clase:definidas dentro de una clase y operan en los objetos de esa clase.\n",
    "#b. metodos de instancia:operan en un objeto específico\n",
    "\n",
    "class Persona:\n",
    "    def __init__(self, nombre):\n",
    "        self.nombre = nombre\n",
    "\n",
    "    def saludar(self):\n",
    "        return f\"Hola, soy {self.nombre}\"\n",
    "\n",
    "persona = Persona(\"Juan\")\n",
    "print(persona.saludar())\n",
    "\n"
   ]
  },
  {
   "cell_type": "code",
   "execution_count": null,
   "metadata": {},
   "outputs": [],
   "source": [
    "#4.HERENCIA:Permite que una clase herede atributos y métodos de otra clase, sin embargo la clase\n",
    "# hija puede mofificar las metodos\n",
    "\n",
    "class Animal:\n",
    "    def hacer_sonido(self):\n",
    "        return \"Hace un sonido genérico\"\n",
    "\n",
    "class Perro(Animal):\n",
    "    def hacer_sonido(self):\n",
    "        return \"Guau!\"\n",
    "\n",
    "perro = Perro()\n",
    "print(perro.hacer_sonido())  # Salida: \"Guau!\""
   ]
  },
  {
   "cell_type": "code",
   "execution_count": null,
   "metadata": {},
   "outputs": [],
   "source": [
    "#5.ENCAPSULACION:Oculta los detalles de implementación de un objeto\n",
    "# y solo expone la interfaz pública\n",
    "\n",
    "class MiClase:\n",
    "    def __init__(self):\n",
    "        self.__atributo_privado = 42\n",
    "\n",
    "    def obtener_atributo_privado(self):\n",
    "        return self.__atributo_privado\n",
    "\n",
    "instancia = MiClase()\n",
    "print(instancia.obtener_atributo_privado())  # Salida: 42\n"
   ]
  },
  {
   "cell_type": "code",
   "execution_count": null,
   "metadata": {},
   "outputs": [],
   "source": [
    "#6.POLIMORFISMO:Permite que objetos de diferentes clases puedan ser tratados de la misma manera.\n",
    "\n",
    "\n",
    "class Animal:\n",
    "    def hacer_sonido(self):\n",
    "        return \"Hace un sonido genérico\"\n",
    "\n",
    "class Perro(Animal):\n",
    "    def hacer_sonido(self):\n",
    "        return \"Guau!\"\n",
    "\n",
    "class Gato(Animal):\n",
    "    def hacer_sonido(self):\n",
    "        return \"Miau!\"\n",
    "\n",
    "def hacer_sonido(animal):\n",
    "    return animal.hacer_sonido()\n",
    "\n",
    "perro = Perro()\n",
    "gato = Gato()\n",
    "\n",
    "print(hacer_sonido(perro))  # Salida: \"Guau!\"\n",
    "print(hacer_sonido(gato))   # Salida: \"Miau!\"\n"
   ]
  },
  {
   "cell_type": "code",
   "execution_count": null,
   "metadata": {},
   "outputs": [],
   "source": []
  },
  {
   "cell_type": "code",
   "execution_count": null,
   "metadata": {},
   "outputs": [],
   "source": []
  }
 ],
 "metadata": {
  "kernelspec": {
   "display_name": "Python 3",
   "language": "python",
   "name": "python3"
  },
  "language_info": {
   "codemirror_mode": {
    "name": "ipython",
    "version": 3
   },
   "file_extension": ".py",
   "mimetype": "text/x-python",
   "name": "python",
   "nbconvert_exporter": "python",
   "pygments_lexer": "ipython3",
   "version": "3.10.11"
  }
 },
 "nbformat": 4,
 "nbformat_minor": 2
}
