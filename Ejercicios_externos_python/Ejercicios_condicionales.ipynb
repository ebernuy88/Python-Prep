{
 "cells": [
  {
   "cell_type": "code",
   "execution_count": 2,
   "metadata": {},
   "outputs": [
    {
     "name": "stdout",
     "output_type": "stream",
     "text": [
      "El numero 7 es impar.\n"
     ]
    }
   ],
   "source": [
    "#EXERCISE 35\n",
    "\n",
    "numero_entero=int(input(\"Ingrese un numero entero mayor a 0: \"))\n",
    "if numero_entero >0 and type(numero_entero)==int:\n",
    "  if numero_entero%2==0:\n",
    "    print(f\"El numero {numero_entero} es par.\")\n",
    "  else:\n",
    "    print(f\"El numero {numero_entero} es impar.\")\n",
    "else:\n",
    "  print(\"por favor ingresar un numero entero mayor a 0.\")"
   ]
  },
  {
   "cell_type": "code",
   "execution_count": 3,
   "metadata": {},
   "outputs": [
    {
     "name": "stdout",
     "output_type": "stream",
     "text": [
      "133.0\n"
     ]
    }
   ],
   "source": [
    "# EXERCISE 36\n",
    "\n",
    "#1.primero dos años de un perro son como 10.5 años humano cda uno\n",
    "#2. despues de dos años , cada año perro equivale a 4 años humano\n",
    "#3. crea un programa que convierta años humanos a años perros\n",
    "#. el prograna debe mostrar un mensaje de error si se ingresa un numero negativo\n",
    "\n",
    "\n",
    "años_humanos=int(input(\"Ingresa la edad de un humano en años: \"))\n",
    "\n",
    "if años_humanos>0:\n",
    "  if años_humanos>2:\n",
    "    años_perro=(años_humanos-2)*4+2*10.5\n",
    "    print(años_perro)\n",
    "  else:\n",
    "    años_perro1=años_humanos*10.5\n",
    "    print(años_perro1)\n",
    "else:\n",
    "  print(\"Ingrese una edad mayor a 0\")\n"
   ]
  },
  {
   "cell_type": "code",
   "execution_count": null,
   "metadata": {},
   "outputs": [],
   "source": [
    "#EXERCISE 37\n",
    "#Crear una programa que lea una letra desde el usuari\n",
    "#si el usuario ingresa un a,e,i,o or u , entonces mostara que es una vocal\n",
    "#si ingresa y , el programa indicara que puedes ser vocal o consonante\n",
    "# el programa debe mostrar un mensaje indicando si es un consonate\n",
    "\n",
    "clasificador_letra1=input(\"ingresar una letra del abecedario: \")\n",
    "clasificador_letra=clasificador_letra1.lower()\n",
    "\n",
    "if clasificador_letra==\"a\" or clasificador_letra==\"e\" or clasificador_letra==\"i\" or clasificador_letra==\"o\" or clasificador_letra==\"u\":\n",
    "  print(f\"{clasificador_letra} es una vocal.\")\n",
    "elif clasificador_letra==\"y\":\n",
    "  print(f\"{clasificador_letra} a veces puede ser una vocal o una consonante.\")\n",
    "else:\n",
    "  print(f\"{clasificador_letra} es una consonante.\")"
   ]
  },
  {
   "cell_type": "code",
   "execution_count": 17,
   "metadata": {},
   "outputs": [
    {
     "name": "stdout",
     "output_type": "stream",
     "text": [
      "70 decibeles equivale a un reloj de alarma\n"
     ]
    }
   ],
   "source": [
    "#Exercise 40\n",
    "#1.Usuario ingresara el numero de decibeles  \n",
    "#2.Si el numero de decibeles conincide con el tipo de sonido (segun tabla), el programa\n",
    "#  debe mostrar solamente el tipo de sonido\n",
    "#3. Si el usuario ingresa un numero de decibeles diferente a los tipos de sonido listados \n",
    "#  el programa debe mostrar entre que tipos de sonidos se encuentra \n",
    "#4.Generar una salida para decibeles que esta fuera de la lista  \n",
    "\n",
    "numero_decibeles=int(input(\"Ingrese el numero de decibeles del ruido\"))\n",
    "\n",
    "if 0<numero_decibeles<40:\n",
    "    print(f\"{numero_decibeles} decibeles es menor a la de un cuarto tranquilo\")\n",
    "elif numero_decibeles==40:\n",
    "    print(f\"{numero_decibeles} decibeles equivale a un cuarto tranquilo\")\n",
    "elif 40<numero_decibeles<70:\n",
    "    print(f\"{numero_decibeles} decibeles esta entre un cuarto tranquilo y un reloj de alarma\")\n",
    "elif numero_decibeles==70:\n",
    "    print(f\"{numero_decibeles} decibeles equivale a un reloj de alarma\")\n",
    "elif 70<numero_decibeles<106:\n",
    "    print(f\"{numero_decibeles} decibeles esta entre un reloj de alarma y una cortadora de cesped\")\n",
    "elif numero_decibeles==106:\n",
    "    print(f\"{numero_decibeles} decibeles equivale a una cortadora de cesped\")\n",
    "elif 106<numero_decibeles<130:\n",
    "    print(f\"{numero_decibeles} decibeles esta entre una cortadora de cesped y un martillo neumatico\")\n",
    "elif numero_decibeles==130:\n",
    "    print(f\"{numero_decibeles} decibeles equivale a una martillo neumatico\")\n",
    "else:\n",
    "    print(f\"{numero_decibeles} decibeles es mayor a la de un martillo neumatico\")\n"
   ]
  },
  {
   "cell_type": "code",
   "execution_count": 8,
   "metadata": {},
   "outputs": [
    {
     "name": "stdout",
     "output_type": "stream",
     "text": [
      "Es año nuevo\n"
     ]
    }
   ],
   "source": [
    "#Exercise 45\n",
    "#1. el programa debe leer el mes y dia\n",
    "#2. si los datos se relaciona se debe mostrar el nombre del feriado, de lo oontrario deberia indicar que no\n",
    "#corresponde a los feriados listado\n",
    "\n",
    "dia= int(input(\"Ingresa el dia: \"))\n",
    "mes=int(input(\"Ingresa el mes: \"))\n",
    "\n",
    "if dia==1 and mes==1:\n",
    "  print(\"Es año nuevo\")\n",
    "elif dia==1 and mes==7:\n",
    "  print(\"Es dia de Canada\")\n",
    "elif dia==25 and mes==12:\n",
    "  print(\"Es navidad\")\n",
    "else:\n",
    "  print(\"la fecha no se encuentra listada\")"
   ]
  },
  {
   "cell_type": "code",
   "execution_count": 9,
   "metadata": {},
   "outputs": [
    {
     "name": "stdout",
     "output_type": "stream",
     "text": [
      "El cobro base es 15\n",
      "el cobro adicional es 0.44\n",
      "El pago total del mes es 8.34 dolares.\n"
     ]
    }
   ],
   "source": [
    "#EXERCISE 57\n",
    "\n",
    "numero_minutos=int(input(\"Ingrese el numero de minutos: \"))\n",
    "numero_mensajes=int(input(\"Ingrese el numero de mensajes: \"))\n",
    "\n",
    "if numero_minutos>50 or numero_mensajes>50:\n",
    "   cargo_base=15\n",
    "   print(f\"El cobro base es {cargo_base}\")\n",
    "   minutos_adicionales=(numero_minutos-50)*0.25\n",
    "   print(f\"el cobro por minutos adicionales es {minutos_adicionales}\")\n",
    "   mensajes_adicionales=(numero_mensajes-50)*0.15\n",
    "   print(f\"el cobro por mensajes adicionales es {mensajes_adicionales}\")\n",
    "   apoyo_call=0.44\n",
    "   print(f\"el cobro adicional es {apoyo_call}\")\n",
    "   facturacion_total=(cargo_base+apoyo_call+minutos_adicionales+mensajes_adicionales)*1.05\n",
    "   facturacion_totalr=round(facturacion_total,2)\n",
    "   print(f\"El pago total del mes es {facturacion_totalr} dolares.\")\n",
    "else:\n",
    "   cargo_base=15\n",
    "   print(f\"El cobro base es {cargo_base}\")\n",
    "   minutos_adicionales=(numero_minutos-50)*0.25\n",
    "   mensajes_adicionales=(numero_mensajes-50)*0.15\n",
    "   apoyo_call=0.44\n",
    "   print(f\"el cobro adicional es {apoyo_call}\")\n",
    "   facturacion_total=(cargo_base+apoyo_call+minutos_adicionales+mensajes_adicionales)*1.05\n",
    "   facturacion_totalr=round(facturacion_total,2)\n",
    "   print(f\"El pago total del mes es {facturacion_totalr} dolares.\")"
   ]
  },
  {
   "cell_type": "code",
   "execution_count": 12,
   "metadata": {},
   "outputs": [
    {
     "name": "stdout",
     "output_type": "stream",
     "text": [
      "2024 es año bisiesto\n"
     ]
    }
   ],
   "source": [
    "#EXERCISE 58\n",
    "\n",
    "\n",
    "#1.crear un  programa que determine si un año es bisieso o no\n",
    "#2.divisible por 400 es bisiesto\n",
    "#3.no es divisible entre 100\n",
    "#4.tambien es divisble entre 4\n",
    "\n",
    "\n",
    "año_ingresado=int(input(\"Ingrese el año en numero: \"))\n",
    "\n",
    "if año_ingresado%4==0:\n",
    "  if año_ingresado%100!=0:\n",
    "    print(f\"{año_ingresado} es año bisiesto\")\n",
    "  elif año_ingresado%100==0 and año_ingresado%400==0:\n",
    "    print(f\"{año_ingresado} es año bisiesto\")\n",
    "  else:\n",
    "    print(f\"{año_ingresado} no es año no bisiesto \")\n",
    "else:\n",
    "  print(f\"{año_ingresado} no es año bisiesto\")"
   ]
  },
  {
   "cell_type": "code",
   "execution_count": 24,
   "metadata": {},
   "outputs": [
    {
     "name": "stdout",
     "output_type": "stream",
     "text": [
      "Si hoy es 13 7 1984 eñ dia siguiente sera 1 1 1984\n"
     ]
    }
   ],
   "source": [
    "#EXERCISE 59\n",
    "\n",
    "#1.El programa debe mostrar una la fecha siguiente a partir de una fecha dada\n",
    "#2.la fecha sera ingresada en formato numerico y separada por dia , mes y año\n",
    "#3. el programa debe funcionar bien para años bisiestos\n",
    "\n",
    "\n",
    "dia=int(input(\"Ingrese el numero de dia: \"))\n",
    "mes=int(input(\"Ingrese el numero de mes: \"))\n",
    "año=int(input(\"Ingrese el numero de año: \"))\n",
    "\n",
    "\n",
    "# Calculo del año y su relacion con meses y dia en el año bisiesto\n",
    "if año%4==0:\n",
    "  if año%100!=0:\n",
    "    if año>=0:\n",
    "      if dia==31 and mes==12:\n",
    "        año_siguiente=año+1\n",
    "        mes_siguiente=1\n",
    "        dia_siguiente=1\n",
    "      else:\n",
    "        año_siguiente=año\n",
    "    elif 1<=mes<=12:     \n",
    "      if dia==28 and mes==2:\n",
    "        mes_siguiente=mes\n",
    "        dia_siguiente=dia+1\n",
    "      elif dia==30 or dia==31:\n",
    "        mes_siguiente=mes+1\n",
    "        dia_siguiente=1\n",
    "      else:\n",
    "        mes_siguiente=mes\n",
    "    elif  1<=dia<=31:\n",
    "      dia_siguiente=dia+1  \n",
    "  elif año%100==0 and año%400==0:\n",
    "      if año>=0:\n",
    "        if dia==31 and mes==12:\n",
    "          año_siguiente=año+1\n",
    "          mes_siguiente=1\n",
    "          dia_siguiente=1\n",
    "        else:\n",
    "          año_siguiente=año\n",
    "      elif 1<=mes<=12:\n",
    "        if dia==28 and mes==2:\n",
    "          mes_siguiente=mes\n",
    "          dia_siguiente=dia+1\n",
    "        elif dia==30 or dia==31:\n",
    "          mes_siguiente=mes+1\n",
    "          dia_siguiente=1\n",
    "        else:\n",
    "          mes_siguiente=mes\n",
    "      elif  1<=dia<=31:\n",
    "        dia_siguiente=dia+1\n",
    "  else:\n",
    "    if año>=0:\n",
    "      if dia==31 and mes==12:\n",
    "        año_siguiente=año+1\n",
    "        mes_siguiente=1\n",
    "        dia_siguiente=1\n",
    "      else:\n",
    "        año_siguiente=año\n",
    "    elif 1<=mes<=12:\n",
    "      if dia==30 or dia==31:\n",
    "        mes_siguiente=mes+1\n",
    "        dia_siguiente=1\n",
    "      else:\n",
    "        mes_siguiente=mes\n",
    "    elif  1<=dia<=31:\n",
    "      dia_siguiente=dia+1  \n",
    "else:\n",
    "  if año>=0:\n",
    "    if dia==31 and mes==12:\n",
    "      año_siguiente=año+1\n",
    "      mes_siguiente=1\n",
    "      dia_siguiente=1\n",
    "    else:\n",
    "      año_siguiente=año\n",
    "  elif 1<=mes<=12:\n",
    "    if dia==30 or dia==31:\n",
    "        mes_siguiente=mes+1\n",
    "        dia_siguiente=1\n",
    "    else:\n",
    "      mes_siguiente=mes\n",
    "  elif  1<=dia<=31:\n",
    "    dia_siguiente=dia+1 \n",
    "\n",
    "print(f\"Si hoy es {dia} {mes} {año} eñ dia siguiente sera {dia_siguiente} {mes_siguiente} {año_siguiente}\")"
   ]
  },
  {
   "cell_type": "code",
   "execution_count": null,
   "metadata": {},
   "outputs": [],
   "source": [
    "PRACTICA PARA EL EXAMEN"
   ]
  },
  {
   "cell_type": "code",
   "execution_count": 4,
   "metadata": {},
   "outputs": [
    {
     "name": "stdout",
     "output_type": "stream",
     "text": [
      "30 dias\n"
     ]
    }
   ],
   "source": [
    "#EXERCISE 39 \n",
    "#A. MES=28 A 31 DIAS / FEBRERO = 28 O 29 DIAS\n",
    "#B. INPUT=NOMBRE DEL MES (STRING)\n",
    "#C. OUTPUT=NUMERO DE DIAS DEL MES \n",
    "\n",
    "def numero_dias_mes(mes):\n",
    "    minus_nombre=mes.lower()\n",
    "    if minus_nombre==\"enero\"or minus_nombre==\"marzo\" or minus_nombre==\"mayo\"  or minus_nombre==\"julio\" or minus_nombre==\"agosto\" or minus_nombre==\"octubre\" or minus_nombre==\"diciembre\":\n",
    "        cantidad_dias=\"31 dias\"\n",
    "        return cantidad_dias\n",
    "    elif minus_nombre==\"abril\" or minus_nombre==\"junio\" or minus_nombre==\"setiembre\" or minus_nombre==\"noviembre\":\n",
    "        cantidad_dias=\"30 dias\"\n",
    "        return cantidad_dias\n",
    "    else:\n",
    "        cantidad_dias=\"28 o 29 dias\"\n",
    "        return cantidad_dias\n",
    "    \n",
    "ingreso_mes=input(\"Ingresar mes en letras\")\n",
    "\n",
    "calcular_dias=numero_dias_mes(ingreso_mes)\n",
    "print(calcular_dias)\n",
    "        "
   ]
  },
  {
   "cell_type": "code",
   "execution_count": null,
   "metadata": {},
   "outputs": [],
   "source": [
    "#EXERCISE 49 ( por completar)\n",
    "# A.INPUT= AÑO\n",
    "# B.OUTPUT=EL ANIMAL ASOCIADO CON EL AÑO\n",
    "# C.AÑO>=0\n",
    "\n",
    "\n",
    "def animal_calendario_chino(año):\n",
    "    if año%12==11\n",
    "        animal=\"Dragon\"\n",
    "        return animal"
   ]
  },
  {
   "cell_type": "code",
   "execution_count": 8,
   "metadata": {},
   "outputs": [
    {
     "name": "stdout",
     "output_type": "stream",
     "text": [
      "El rendimiento es meritorio por tanto el incremento es 1920.0 dolares\n"
     ]
    }
   ],
   "source": [
    "#EXERCISE 54\n",
    "#Mejor calificacion mayor incremento (ver cuadro)\n",
    "#Nunca se usa valores entre 0.0 al 0.6\n",
    "#el ratio se multiplica por 2400 dolares\n",
    "#INPUT=RATING (O.O , O.4,ETC)\n",
    "#OUTPUT=MEANING AND CANTIDAD DE INCREMENTO \n",
    "#DEBE MOSTRARSE UN MENSAJE DE ERROR SI SE PONE UN VALOR NO VALIDO\n",
    "\n",
    "\n",
    "def calcular_incremento(rating):\n",
    "    ratio=float(rating)\n",
    "    if ratio==0.0:\n",
    "        incremento=0\n",
    "        return f\"El rendimiento es inaceptable por tanto el incremento es {incremento} dolares\"\n",
    "    elif ratio==0.4:\n",
    "        incremento=2400*0.4\n",
    "        return f\"El rendimiento es aceptable por tanto el incremento es {incremento} dolares\"\n",
    "    elif ratio>=0.6:\n",
    "        incremento=2400*ratio\n",
    "        return f\"El rendimiento es meritorio por tanto el incremento es {incremento} dolares\"\n",
    "    else:\n",
    "        return f\"Ingresar un valor valido para rating\"\n",
    "    \n",
    "rating_trabajador=input(\"Ingrese rating del trabajador\")\n",
    "\n",
    "aumento_trabajador=calcular_incremento(rating_trabajador)\n",
    "print(aumento_trabajador)\n"
   ]
  }
 ],
 "metadata": {
  "kernelspec": {
   "display_name": "Python 3",
   "language": "python",
   "name": "python3"
  },
  "language_info": {
   "codemirror_mode": {
    "name": "ipython",
    "version": 3
   },
   "file_extension": ".py",
   "mimetype": "text/x-python",
   "name": "python",
   "nbconvert_exporter": "python",
   "pygments_lexer": "ipython3",
   "version": "3.10.11"
  }
 },
 "nbformat": 4,
 "nbformat_minor": 2
}
