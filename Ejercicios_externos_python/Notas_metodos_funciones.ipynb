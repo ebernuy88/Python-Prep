{
 "cells": [
  {
   "cell_type": "code",
   "execution_count": null,
   "metadata": {},
   "outputs": [],
   "source": [
    "#GENERACION DE NUMEROS ALEATORIOS"
   ]
  },
  {
   "cell_type": "code",
   "execution_count": null,
   "metadata": {},
   "outputs": [],
   "source": [
    "#1. RANDOM\n",
    "\n",
    "#Este método devuelve un número de punto flotante aleatorio en el rango [0.0, 1.0).\n",
    "\n",
    "import random\n",
    "\n",
    "numero_aleatorio = random.random()\n",
    "print(numero_aleatorio)"
   ]
  },
  {
   "cell_type": "code",
   "execution_count": null,
   "metadata": {},
   "outputs": [],
   "source": [
    "#2.RANDINT\n",
    "\n",
    "#Este método devuelve un número entero aleatorio en el rango [a, b], incluyendo ambos extremos.\n",
    "\n",
    "import random\n",
    "\n",
    "numero_aleatorio = random.randint(1, 10)\n",
    "print(numero_aleatorio)\n"
   ]
  },
  {
   "cell_type": "code",
   "execution_count": null,
   "metadata": {},
   "outputs": [],
   "source": [
    "#3. CHOICE\n",
    "\n",
    "#Este método devuelve un elemento aleatorio de la secuencia especificada \n",
    "#(lista, tupla, cadena, etc.).\n",
    "\n",
    "import random\n",
    "\n",
    "secuencia = [1, 2, 3, 4, 5]\n",
    "elemento_aleatorio = random.choice(secuencia)\n",
    "print(elemento_aleatorio)\n"
   ]
  },
  {
   "cell_type": "code",
   "execution_count": null,
   "metadata": {},
   "outputs": [],
   "source": [
    "#4. SHUFFLE\n",
    "\n",
    "#Este método reordena aleatoriamente los elementos de la secuencia especificada \n",
    "#(lista, tupla, etc.).\n",
    "\n",
    "import random\n",
    "\n",
    "lista = [1, 2, 3, 4, 5]\n",
    "random.shuffle(lista)\n",
    "print(lista)"
   ]
  },
  {
   "cell_type": "code",
   "execution_count": null,
   "metadata": {},
   "outputs": [],
   "source": [
    "#5. SAMPLE\n",
    "\n",
    "#Este método devuelve una lista de k elementos únicos seleccionados aleatoriamente de la \n",
    "#secuencia especificada.\n",
    "\n",
    "import random\n",
    "\n",
    "secuencia = [1, 2, 3, 4, 5]\n",
    "elementos_aleatorios = random.sample(secuencia, 3)\n",
    "print(elementos_aleatorios)\n"
   ]
  },
  {
   "cell_type": "code",
   "execution_count": null,
   "metadata": {},
   "outputs": [],
   "source": [
    "#EXPRESION GENERADORA\n",
    "\n",
    "#Es una forma concisa y eficiente de crear y procesar secuencias de datos,\n",
    "#como listas, tuplas o conjuntos. \n",
    "\n",
    "#La sintaxis básica de una expresión generadora es la siguiente:\n",
    "\n",
    "#(expresion for elemento in iterable)\n",
    "\n",
    "\n",
    "generador = (x**2 for x in range(1, 6))\n",
    "\n",
    "#convertirlo en una lista, tupla o conjunto utilizando las funciones list(), tuple() o set() \n",
    "#respectivamente.\n",
    "\n",
    "generador = list((x**2 for x in range(1, 6)))\n",
    "print(generador)"
   ]
  },
  {
   "cell_type": "code",
   "execution_count": 1,
   "metadata": {},
   "outputs": [
    {
     "name": "stdout",
     "output_type": "stream",
     "text": [
      "[1, 4, 9, 16, 25]\n"
     ]
    }
   ],
   "source": []
  }
 ],
 "metadata": {
  "kernelspec": {
   "display_name": "Python 3",
   "language": "python",
   "name": "python3"
  },
  "language_info": {
   "codemirror_mode": {
    "name": "ipython",
    "version": 3
   },
   "file_extension": ".py",
   "mimetype": "text/x-python",
   "name": "python",
   "nbconvert_exporter": "python",
   "pygments_lexer": "ipython3",
   "version": "3.10.11"
  }
 },
 "nbformat": 4,
 "nbformat_minor": 2
}
