{
 "cells": [
  {
   "cell_type": "code",
   "execution_count": 1,
   "metadata": {},
   "outputs": [
    {
     "name": "stdout",
     "output_type": "stream",
     "text": [
      "15\n"
     ]
    }
   ],
   "source": [
    "#EJERCICIOS 1\n",
    "\n",
    "numeros = [1, 2, 3, 4, 5]\n",
    "suma_numeros=sum(numeros)\n",
    "print(suma_numeros)"
   ]
  },
  {
   "cell_type": "code",
   "execution_count": 3,
   "metadata": {},
   "outputs": [
    {
     "name": "stdout",
     "output_type": "stream",
     "text": [
      "[2, 4, 6, 8, 10]\n"
     ]
    }
   ],
   "source": [
    "#EJERCICIOS 2\n",
    "\n",
    "numeros = [1, 2, 3, 4, 5, 6, 7, 8, 9, 10]\n",
    "numeros_pares = [num for num in numeros if num%2 == 0]\n",
    "print(numeros_pares)"
   ]
  },
  {
   "cell_type": "code",
   "execution_count": 18,
   "metadata": {},
   "outputs": [
    {
     "ename": "TypeError",
     "evalue": "'builtin_function_or_method' object is not iterable",
     "output_type": "error",
     "traceback": [
      "\u001b[1;31m---------------------------------------------------------------------------\u001b[0m",
      "\u001b[1;31mTypeError\u001b[0m                                 Traceback (most recent call last)",
      "Cell \u001b[1;32mIn[18], line 7\u001b[0m\n\u001b[0;32m      5\u001b[0m texto\u001b[38;5;241m=\u001b[39m\u001b[38;5;124m\"\u001b[39m\u001b[38;5;124mHola, Python es divertido\u001b[39m\u001b[38;5;124m\"\u001b[39m\n\u001b[0;32m      6\u001b[0m texto_minyus\u001b[38;5;241m=\u001b[39mtexto\u001b[38;5;241m.\u001b[39mlower\n\u001b[1;32m----> 7\u001b[0m \u001b[38;5;28;01mfor\u001b[39;00m caracter \u001b[38;5;129;01min\u001b[39;00m texto_minyus:\n\u001b[0;32m      8\u001b[0m     \u001b[38;5;28;01mif\u001b[39;00m caracter \u001b[38;5;129;01mnot\u001b[39;00m \u001b[38;5;129;01min\u001b[39;00m diccionario_repeticiones:\n\u001b[0;32m      9\u001b[0m         diccionario_repeticiones[caracter]\u001b[38;5;241m=\u001b[39m\u001b[38;5;241m1\u001b[39m \n",
      "\u001b[1;31mTypeError\u001b[0m: 'builtin_function_or_method' object is not iterable"
     ]
    }
   ],
   "source": [
    "#EJERCICIOS 3\n",
    "diccionario_repeticiones={}\n",
    "\n",
    "\n",
    "texto=\"Hola, Python es divertido\"\n",
    "texto_minyus=texto.lower\n",
    "for caracter in texto_minyus:\n",
    "    if caracter not in diccionario_repeticiones:\n",
    "        diccionario_repeticiones[caracter]=1 \n",
    "    else:\n",
    "        diccionario_repeticiones[caracter]+=1\n",
    "\n",
    "print(diccionario_repeticiones)\n",
    "        "
   ]
  },
  {
   "cell_type": "code",
   "execution_count": 21,
   "metadata": {},
   "outputs": [
    {
     "name": "stdout",
     "output_type": "stream",
     "text": [
      "['Python', 'es', 'un', 'lenguaje', 'de', 'programación', 'poderoso', 'y', 'versátil']\n"
     ]
    },
    {
     "data": {
      "text/plain": [
       "'programación'"
      ]
     },
     "execution_count": 21,
     "metadata": {},
     "output_type": "execute_result"
    }
   ],
   "source": [
    "#EXERCISE 4\n",
    "\n",
    "texto = \"Python es un lenguaje de programación poderoso y versátil\"\n",
    "contador={}\n",
    "nueva_lista=texto.split()\n",
    "print(nueva_lista)\n",
    "\n",
    "for palabra in nueva_lista:\n",
    "   tamaño=len(palabra)\n",
    "   contador[tamaño]=palabra\n",
    "\n",
    "maximo_value=max(contador)\n",
    "contador[maximo_value]\n",
    "   \n",
    "        \t\n",
    "\n",
    "    "
   ]
  }
 ],
 "metadata": {
  "kernelspec": {
   "display_name": "Python 3",
   "language": "python",
   "name": "python3"
  },
  "language_info": {
   "codemirror_mode": {
    "name": "ipython",
    "version": 3
   },
   "file_extension": ".py",
   "mimetype": "text/x-python",
   "name": "python",
   "nbconvert_exporter": "python",
   "pygments_lexer": "ipython3",
   "version": "3.10.11"
  }
 },
 "nbformat": 4,
 "nbformat_minor": 2
}
