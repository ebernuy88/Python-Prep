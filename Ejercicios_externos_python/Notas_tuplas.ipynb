{
 "cells": [
  {
   "cell_type": "code",
   "execution_count": null,
   "metadata": {},
   "outputs": [],
   "source": [
    "#1.Crear una tupla\n",
    "\n",
    "mi_tupla = (1, 2, 3, 4, 5)"
   ]
  },
  {
   "cell_type": "code",
   "execution_count": null,
   "metadata": {},
   "outputs": [],
   "source": [
    "#2.Acceder a elementos de la tupla\n",
    "\n",
    "print(\"Elemento en la posición 0:\", mi_tupla[0])"
   ]
  },
  {
   "cell_type": "code",
   "execution_count": null,
   "metadata": {},
   "outputs": [],
   "source": [
    "#3.Contar el número de veces que aparece un elemento en la tupla\n",
    "\n",
    "conteo = mi_tupla.count(2)\n",
    "print(\"Conteo de 2:\", conteo)"
   ]
  },
  {
   "cell_type": "code",
   "execution_count": null,
   "metadata": {},
   "outputs": [],
   "source": [
    "#4.Encontrar el índice del primer elemento con un valor específico\n",
    "\n",
    "indice = mi_tupla.index(5)\n",
    "print(\"Índice de 5:\", indice)"
   ]
  },
  {
   "cell_type": "code",
   "execution_count": null,
   "metadata": {},
   "outputs": [],
   "source": [
    "#5.Convertir una tupla en una lista\n",
    "\n",
    "mi_lista = list(mi_tupla)\n",
    "print(\"Tupla convertida en lista:\", mi_lista)"
   ]
  },
  {
   "cell_type": "code",
   "execution_count": null,
   "metadata": {},
   "outputs": [],
   "source": [
    "#6.Convertir una lista en una tupla\n",
    "\n",
    "nueva_tupla = tuple(mi_lista)\n",
    "print(\"Lista convertida en tupla:\", nueva_tupla)"
   ]
  },
  {
   "cell_type": "code",
   "execution_count": null,
   "metadata": {},
   "outputs": [],
   "source": [
    "#7.Concatenar tuplas\n",
    "\n",
    "tupla1 = (1, 2, 3)\n",
    "tupla2 = (4, 5, 6)\n",
    "tupla_concatenada = tupla1 + tupla2\n",
    "print(\"Tuplas concatenadas:\", tupla_concatenada)\n"
   ]
  },
  {
   "cell_type": "code",
   "execution_count": null,
   "metadata": {},
   "outputs": [],
   "source": [
    "#8.Repetir una tupla cierto número de veces\n",
    "\n",
    "tupla_repetida = (1, 2) * 3\n",
    "print(\"Tupla repetida:\", tupla_repetida)"
   ]
  },
  {
   "cell_type": "code",
   "execution_count": null,
   "metadata": {},
   "outputs": [],
   "source": [
    "#9.Calcular la longitud de una tupla\n",
    "\n",
    "longitud = len(mi_tupla)\n",
    "print(\"Longitud de la tupla:\", longitud)"
   ]
  },
  {
   "cell_type": "code",
   "execution_count": null,
   "metadata": {},
   "outputs": [],
   "source": [
    "#10.Verificar si un elemento está presente en la tupla\n",
    "\n",
    "esta_presente = 3 in mi_tupla\n",
    "print(\"¿3 está presente en la tupla?\", esta_presente)"
   ]
  },
  {
   "cell_type": "code",
   "execution_count": null,
   "metadata": {},
   "outputs": [],
   "source": [
    "#11.Iterar sobre los elementos de la tupla\n",
    "\n",
    "for elemento in mi_tupla:\n",
    "    print(\"Elemento:\", elemento)"
   ]
  }
 ],
 "metadata": {
  "language_info": {
   "name": "python"
  }
 },
 "nbformat": 4,
 "nbformat_minor": 2
}
