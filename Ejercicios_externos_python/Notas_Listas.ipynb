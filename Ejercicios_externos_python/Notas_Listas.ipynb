{
 "cells": [
  {
   "cell_type": "code",
   "execution_count": null,
   "metadata": {},
   "outputs": [],
   "source": [
    "# CENTINELA EN CICLO WHILE\n",
    "\n",
    "centinela = 0\n",
    "suma = 0\n",
    "\n",
    "while centinela != -1:\n",
    "    numero = int(input(\"Ingresa un número (-1 para salir): \"))\n",
    "    \n",
    "    # Verificar si se ingresó el centinela\n",
    "    if numero == -1:\n",
    "        centinela = -1\n",
    "    else:\n",
    "        # Realizar acciones con el número ingresado\n",
    "        suma += numero\n",
    "        print(\"Suma parcial:\", suma)\n",
    "\n",
    "print(\"Fin del programa. Suma total:\", suma)\n",
    "\n"
   ]
  },
  {
   "cell_type": "code",
   "execution_count": 2,
   "metadata": {},
   "outputs": [
    {
     "name": "stdout",
     "output_type": "stream",
     "text": [
      "Lista original: [3, 1, 4, 1, 5, 9, 2, 6, 5, 3, 5]\n",
      "Lista ordenada: [1, 1, 2, 3, 3, 4, 5, 5, 5, 6, 9]\n",
      "Lista descendente: [9, 6, 5, 5, 5, 4, 3, 3, 2, 1, 1]\n",
      "Palabras ordenadas por longitud: ['uva', 'banana', 'cereza', 'manzana']\n"
     ]
    }
   ],
   "source": [
    "#METODOS PARA ORDENAR ELEMENTOS DE UNA LISTA\n",
    "\n",
    "#El método sorted en Python se utiliza para ordenar una secuencia (como una lista, tupla o cadena) y devuelve una nueva lista con los elementos ordenados. El método sorted no modifica la secuencia original; en su lugar, crea una nueva lista que contiene los elementos ordenados.\n",
    "#Aquí hay una descripción básica de cómo funciona el método sorted:\n",
    "\n",
    "# Ejemplo con una lista\n",
    "lista_original = [3, 1, 4, 1, 5, 9, 2, 6, 5, 3, 5]\n",
    "lista_ordenada = sorted(lista_original)\n",
    "\n",
    "print(\"Lista original:\", lista_original)\n",
    "print(\"Lista ordenada:\", lista_ordenada)\n",
    "\n",
    "#En este ejemplo, sorted toma la lista original lista_original, la ordena en orden ascendente y devuelve una nueva lista llamada lista_ordenada. La lista original no se ve afectada.\n",
    "#El método sorted también puede aceptar argumentos adicionales para personalizar el ordenamiento. Por ejemplo, puedes usar el argumento reverse=True para ordenar en orden descendente:\n",
    "\n",
    "lista_descendente = sorted(lista_original, reverse=True)\n",
    "print(\"Lista descendente:\", lista_descendente)\n",
    "\n",
    "#Además, puedes utilizar la función key para especificar una función de clave personalizada para determinar el orden:\n",
    "\n",
    "palabras = [\"manzana\", \"banana\", \"uva\", \"cereza\"]\n",
    "palabras_ordenadas_por_longitud = sorted(palabras, key=len)\n",
    "print(\"Palabras ordenadas por longitud:\", palabras_ordenadas_por_longitud)\n",
    "\n",
    "#En este ejemplo, las palabras se ordenan por longitud utilizando la función len como clave.\n",
    "\n",
    "#En resumen, el método sorted es una forma conveniente de ordenar secuencias en Python sin modificar la secuencia original. Puedes ajustar su comportamiento según tus necesidades utilizando argumentos adicionales.\n"
   ]
  },
  {
   "cell_type": "code",
   "execution_count": null,
   "metadata": {},
   "outputs": [],
   "source": [
    "#1.Añadir un elemento al final de la lista\n",
    "\n",
    "mi_lista = [1, 2, 3, 4, 5]\n",
    "mi_lista.append(6)\n",
    "print(\"Después de append:\", mi_lista)"
   ]
  },
  {
   "cell_type": "code",
   "execution_count": null,
   "metadata": {},
   "outputs": [],
   "source": [
    "#2.Extender la lista con los elementos de otra lista\n",
    "\n",
    "mi_lista.extend([7, 8, 9])\n",
    "print(\"Después de extend:\", mi_lista)"
   ]
  },
  {
   "cell_type": "code",
   "execution_count": null,
   "metadata": {},
   "outputs": [],
   "source": [
    "#3.Insertar un elemento en una posición específica\n",
    "\n",
    "mi_lista.insert(0, 0)  # Inserta 0 en la posición 0\n",
    "print(\"Después de insert:\", mi_lista)"
   ]
  },
  {
   "cell_type": "code",
   "execution_count": null,
   "metadata": {},
   "outputs": [],
   "source": [
    "#4.Eliminar el primer elemento con un valor específico\n",
    "\n",
    "mi_lista.remove(3)\n",
    "print(\"Después de remove:\", mi_lista)"
   ]
  },
  {
   "cell_type": "code",
   "execution_count": null,
   "metadata": {},
   "outputs": [],
   "source": [
    "#5.Eliminar el elemento en una posición específica y devolverlo\n",
    "\n",
    "elemento_eliminado = mi_lista.pop(1)  # Elimina y devuelve el elemento en la posición 1\n",
    "print(\"Después de pop:\", mi_lista)\n",
    "print(\"Elemento eliminado:\", elemento_eliminado)\n"
   ]
  },
  {
   "cell_type": "code",
   "execution_count": null,
   "metadata": {},
   "outputs": [],
   "source": [
    "#6.Encontrar el índice del primer elemento con un valor específico\n",
    "\n",
    "indice = mi_lista.index(5)\n",
    "print(\"Índice de 5:\", indice)"
   ]
  },
  {
   "cell_type": "code",
   "execution_count": null,
   "metadata": {},
   "outputs": [],
   "source": [
    "#7.Contar el número de veces que aparece un elemento en la lista\n",
    "\n",
    "conteo = mi_lista.count(2)\n",
    "print(\"Conteo de 2:\", conteo)"
   ]
  },
  {
   "cell_type": "code",
   "execution_count": null,
   "metadata": {},
   "outputs": [],
   "source": [
    "#8.Invertir los elementos de la lista\n",
    "\n",
    "mi_lista.reverse()\n",
    "print(\"Después de reverse:\", mi_lista)"
   ]
  },
  {
   "cell_type": "code",
   "execution_count": null,
   "metadata": {},
   "outputs": [],
   "source": [
    "#9.Ordenar los elementos de la lista\n",
    "\n",
    "mi_lista.sort()\n",
    "print(\"Después de sort:\", mi_lista)\n"
   ]
  },
  {
   "cell_type": "code",
   "execution_count": null,
   "metadata": {},
   "outputs": [],
   "source": [
    "#10.Copiar una lista\n",
    "\n",
    "copia_lista = mi_lista.copy()\n",
    "print(\"Copia de la lista:\", copia_lista)\n"
   ]
  },
  {
   "cell_type": "code",
   "execution_count": null,
   "metadata": {},
   "outputs": [],
   "source": [
    "#11.Eliminar todos los elementos de la lista\n",
    "\n",
    "mi_lista.clear()\n",
    "print(\"Después de clear:\", mi_lista)"
   ]
  }
 ],
 "metadata": {
  "kernelspec": {
   "display_name": "Python 3",
   "language": "python",
   "name": "python3"
  },
  "language_info": {
   "codemirror_mode": {
    "name": "ipython",
    "version": 3
   },
   "file_extension": ".py",
   "mimetype": "text/x-python",
   "name": "python",
   "nbconvert_exporter": "python",
   "pygments_lexer": "ipython3",
   "version": "3.10.11"
  }
 },
 "nbformat": 4,
 "nbformat_minor": 2
}
