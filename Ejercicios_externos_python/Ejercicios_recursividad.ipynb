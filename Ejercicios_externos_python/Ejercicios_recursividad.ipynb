{
 "cells": [
  {
   "cell_type": "code",
   "execution_count": null,
   "metadata": {},
   "outputs": [
    {
     "ename": "",
     "evalue": "",
     "output_type": "error",
     "traceback": [
      "\u001b[1;31mThe Kernel crashed while executing code in the the current cell or a previous cell. Please review the code in the cell(s) to identify a possible cause of the failure. Click <a href='https://aka.ms/vscodeJupyterKernelCrash'>here</a> for more info. View Jupyter <a href='command:jupyter.viewOutput'>log</a> for further details."
     ]
    }
   ],
   "source": [
    "#EXERCISE 173\n",
    "\n",
    "\n",
    "def Ingreso_valores():\n",
    "    if valor==\"\":\n",
    "       return 0.0\n",
    "    else:\n",
    "        print(valor)\n",
    "        Ingreso_valores()\n",
    "        \n",
    "    \n",
    "\n",
    "valor=input(\"Ingrese un numero:\")\n",
    "\n",
    "resultado=Ingreso_valores()"
   ]
  },
  {
   "cell_type": "code",
   "execution_count": 1,
   "metadata": {},
   "outputs": [],
   "source": [
    "#EXERCISE 173\n",
    "\n",
    "\n",
    "def Ingreso_valores():\n",
    "    if valor==\"\":\n",
    "       return 0.0\n",
    "    else:\n",
    "        print(valor)\n",
    "        Ingreso_valores()\n",
    "        \n",
    "    \n",
    "\n",
    "valor=input(\"Ingrese un numero:\")\n",
    "\n",
    "resultado=Ingreso_valores()"
   ]
  }
 ],
 "metadata": {
  "kernelspec": {
   "display_name": "Python 3",
   "language": "python",
   "name": "python3"
  },
  "language_info": {
   "codemirror_mode": {
    "name": "ipython",
    "version": 3
   },
   "file_extension": ".py",
   "mimetype": "text/x-python",
   "name": "python",
   "nbconvert_exporter": "python",
   "pygments_lexer": "ipython3",
   "version": "3.10.11"
  }
 },
 "nbformat": 4,
 "nbformat_minor": 2
}
