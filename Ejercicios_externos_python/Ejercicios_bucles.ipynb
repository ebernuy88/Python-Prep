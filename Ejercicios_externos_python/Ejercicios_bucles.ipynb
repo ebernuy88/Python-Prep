{
 "cells": [
  {
   "cell_type": "code",
   "execution_count": 8,
   "metadata": {},
   "outputs": [
    {
     "name": "stdout",
     "output_type": "stream",
     "text": [
      "Ingresar por lo menos un numero antes del 0\n"
     ]
    }
   ],
   "source": [
    "#EXERCISE 63\n",
    "centinela = 1\n",
    "suma = 0\n",
    "contador=0\n",
    "\n",
    "while centinela != 0:\n",
    "    numero_ingresado=int(input(\"Ingresa un número (0 para salir): \"))\n",
    "    \n",
    "   \n",
    "    if numero_ingresado == 0:\n",
    "        centinela = 0\n",
    "    else:\n",
    "        suma += numero_ingresado\n",
    "        contador+=1\n",
    "\n",
    "if contador>0:\n",
    "    promedio=suma/contador\n",
    "    promedio=round(promedio)   \n",
    "    print(f\"EL promedio de los numeros ingresados es {promedio}\")\n",
    "else:\n",
    "    print(\"Ingresar por lo menos un numero antes del 0\")\n"
   ]
  },
  {
   "cell_type": "code",
   "execution_count": null,
   "metadata": {},
   "outputs": [],
   "source": [
    "#EXERCISE 63\n",
    "\n",
    "sentinela=0\n",
    "lista=[]\n",
    "while True:\n",
    "  valores=int(input(\"Ingresa un numero (o 0 para salir): \"))\n",
    "  if valores==sentinela:\n",
    "    break\n",
    "  lista.append(valores)\n",
    "promedio=sum(lista)/len(lista)\n",
    "promedio=round(promedio,2)\n",
    "print(f\"el promedio de los numeros ingresados es {promedio}\")"
   ]
  },
  {
   "cell_type": "code",
   "execution_count": 16,
   "metadata": {},
   "outputs": [
    {
     "name": "stdout",
     "output_type": "stream",
     "text": [
      "Precio original:4.95,Descuento:2.97,Precio con descuento:1.98\n",
      "Precio original:9.95,Descuento:5.97,Precio con descuento:3.98\n",
      "Precio original:14.95,Descuento:8.97,Precio con descuento:5.98\n",
      "Precio original:19.95,Descuento:11.97,Precio con descuento:7.98\n",
      "Precio original:24.95,Descuento:14.97,Precio con descuento:9.98\n"
     ]
    }
   ],
   "source": [
    "#EXERCISE 64\n",
    "\n",
    "lista_precios=[4.95,9.95,14.95,19.95,24.95]\n",
    "for elemento in lista_precios:\n",
    "    descuento=round(elemento*0.6,2)\n",
    "    precio_descontado=round(elemento-descuento,2)\n",
    "    print(f\"Precio original:{elemento},Descuento:{descuento},Precio con descuento:{precio_descontado}\")"
   ]
  },
  {
   "cell_type": "code",
   "execution_count": null,
   "metadata": {},
   "outputs": [],
   "source": [
    "#EXERCISE 64\n",
    "#1. 60% de descuento en algunos productos\n",
    "#2. el vendedor quiere tener una tabla que muestre los precios originales y\n",
    "#los precios con descuento\n",
    "#3.use un bucle para generar esta tabla, indicando precio original , cantidad descontado and new price\n",
    "#de 4.95,9.95,14.95,19.95 y 24.95\n",
    "\n",
    "productos=[4.95,9.95,14.95,19.95,24.95]\n",
    "\n",
    "for producto in productos:\n",
    "    descuento=0.6*(producto)\n",
    "    descuento=round(descuento,2)\n",
    "    precio_descontado=producto-descuento\n",
    "    precio_descontado=round(precio_descontado,2)\n",
    "    print(f\"Precio original:{producto}, Descuento:{descuento}, Precio con descuento:{precio_descontado}\")"
   ]
  },
  {
   "cell_type": "code",
   "execution_count": 34,
   "metadata": {},
   "outputs": [
    {
     "name": "stdout",
     "output_type": "stream",
     "text": [
      "Grados Celsius       Grados Farenheit    \n",
      "0                    32.0                \n",
      "10                   50.0                \n",
      "20                   68.0                \n",
      "30                   86.0                \n",
      "40                   104.0               \n",
      "50                   122.0               \n",
      "60                   140.0               \n",
      "70                   158.0               \n",
      "80                   176.0               \n",
      "90                   194.0               \n",
      "100                  212.0               \n"
     ]
    }
   ],
   "source": [
    "#EXERCISE 65\n",
    "\n",
    "for grados_celsious in range(0,101):\n",
    "    if grados_celsious%10==0:\n",
    "        grados_farenheit=(grados_celsious*9)/5+32\n",
    "        if grados_celsious == 0:\n",
    "            print(\"{:<20} {:<20}\".format(\"Grados Celsius\", \"Grados Farenheit\"))\n",
    "        print(\"{:<20} {:<20}\".format(grados_celsious,grados_farenheit))\n",
    " "
   ]
  },
  {
   "cell_type": "code",
   "execution_count": 45,
   "metadata": {},
   "outputs": [
    {
     "ename": "ValueError",
     "evalue": "invalid literal for int() with base 10: ''",
     "output_type": "error",
     "traceback": [
      "\u001b[1;31m---------------------------------------------------------------------------\u001b[0m",
      "\u001b[1;31mValueError\u001b[0m                                Traceback (most recent call last)",
      "Cell \u001b[1;32mIn[45], line 13\u001b[0m\n\u001b[0;32m     11\u001b[0m \u001b[38;5;28;01mwhile\u001b[39;00m centinela \u001b[38;5;129;01mis\u001b[39;00m \u001b[38;5;28;01mNone\u001b[39;00m:\n\u001b[0;32m     12\u001b[0m     x\u001b[38;5;241m=\u001b[39m\u001b[38;5;28minput\u001b[39m(\u001b[38;5;124m\"\u001b[39m\u001b[38;5;124mIngrese un valor para x(o ingrese enter para salir): \u001b[39m\u001b[38;5;124m\"\u001b[39m)\n\u001b[1;32m---> 13\u001b[0m     y\u001b[38;5;241m=\u001b[39m\u001b[38;5;28;43mint\u001b[39;49m\u001b[43m(\u001b[49m\u001b[38;5;28;43minput\u001b[39;49m\u001b[43m(\u001b[49m\u001b[38;5;124;43m\"\u001b[39;49m\u001b[38;5;124;43mIngrese un valor para y: \u001b[39;49m\u001b[38;5;124;43m\"\u001b[39;49m\u001b[43m)\u001b[49m\u001b[43m)\u001b[49m\n\u001b[0;32m     15\u001b[0m     \u001b[38;5;28;01mif\u001b[39;00m  x \u001b[38;5;241m==\u001b[39m \u001b[38;5;124m\"\u001b[39m\u001b[38;5;124m\"\u001b[39m:\n\u001b[0;32m     16\u001b[0m         centinela \u001b[38;5;241m=\u001b[39m \u001b[38;5;28;01mTrue\u001b[39;00m\n",
      "\u001b[1;31mValueError\u001b[0m: invalid literal for int() with base 10: ''"
     ]
    }
   ],
   "source": [
    "#EXERCISE 63\n",
    "\n",
    "x=int(input(\"Ingrese un valor para x: \"))\n",
    "y= int(input(\"Ingrese un valor para y: \"))   \n",
    "\n",
    "\n",
    "centinela = None\n",
    "suma_lados=0\n",
    "valor_x=0\n",
    "valor_y=0\n",
    "import math\n",
    "\n",
    "while centinela is None:\n",
    "    x=input(\"Ingrese un valor para x(o ingrese enter para salir): \")\n",
    "    y=int(input(\"Ingrese un valor para y: \"))\n",
    "   \n",
    "    if  x == \"\":\n",
    "        centinela = True\n",
    "    else:\n",
    "        \n",
    "\n",
    "print(f\"perimetro es igual a {suma_lados}\")\n"
   ]
  },
  {
   "cell_type": "code",
   "execution_count": 7,
   "metadata": {},
   "outputs": [
    {
     "name": "stdout",
     "output_type": "stream",
     "text": [
      "El costo total por entrada al zoologico es 55 soles\n"
     ]
    }
   ],
   "source": [
    "#EXERCISE 69\n",
    "\n",
    "centinela = 0\n",
    "costo_total=0\n",
    "\n",
    "while centinela !=\"\":\n",
    "    edad_invitado=input(\"Ingrese edad invitado ( Ingrese \"\" para salir): \")\n",
    "    \n",
    "   \n",
    "    if edad_invitado==\"\":\n",
    "        centinela = \"\"\n",
    "    else:\n",
    "        edad_invitado=int(edad_invitado)\n",
    "        if edad_invitado<=2:\n",
    "            costo_total+=0\n",
    "        elif 3<=edad_invitado<=12:\n",
    "            costo_total+=14\n",
    "        elif 13<=edad_invitado<=64:\n",
    "            costo_total+=23\n",
    "        else:\n",
    "            costo_total+=18\n",
    "\n",
    "print(f\"El costo total por entrada al zoologico es {round(costo_total,2)} soles\")\n",
    "        "
   ]
  },
  {
   "cell_type": "code",
   "execution_count": null,
   "metadata": {},
   "outputs": [],
   "source": [
    "#EXERCISE 69\n",
    "#1.en un zoo se determina el precio de entrada segun la edad\n",
    "#2. de 2 a menos: no pagan/ niños de 3 a 12 años: 14 / ancianos de 65 a mas:18/ para todos los demas 23\n",
    "#3. crea un programa que lea las edades en un grupo , uno en cada linea,\n",
    "#se usara el espacio en blanco para indicar que ya no hay mas\n",
    "#4. el programa debe mostrar el costo de admision para el grupo, mostar en decimales\n",
    "\n",
    "sentinela=-1\n",
    "lista_bb=[]\n",
    "lista_niños=[]\n",
    "lista_otros=[]\n",
    "lista_senior=[]\n",
    "while True:\n",
    "  edad=int(input(\"Ingresa las edades de la personas y -1 cuando ya no haya nadie mas: \"))\n",
    "  if edad==sentinela:\n",
    "    break\n",
    "  if edad<=2:\n",
    "    lista_bb.append(edad)\n",
    "  if 3<=edad<=12:\n",
    "    lista_niños.append(edad)\n",
    "  if 13<=edad<=64:\n",
    "    lista_otros.append(edad)\n",
    "  if edad>=65:\n",
    "    lista_senior.append(edad)\n",
    "\n",
    "costo_total =len(lista_bb)*0+len(lista_niños)*14+len(lista_otros)*23+len(lista_senior)*18\n",
    "costo_total=round(costo_total,2)\n",
    "print(f\"El costo total de entrada es {costo_total}\")"
   ]
  },
  {
   "cell_type": "code",
   "execution_count": 8,
   "metadata": {},
   "outputs": [
    {
     "name": "stdout",
     "output_type": "stream",
     "text": [
      "1\n",
      "2\n",
      "para el numero 3 se debe decit fizz!!\n",
      "4\n",
      "para el numero 5 se debe decit buzz!!\n",
      "para el numero 6 se debe decit fizz!!\n",
      "7\n",
      "8\n",
      "para el numero 9 se debe decit fizz!!\n",
      "para el numero 10 se debe decit buzz!!\n",
      "11\n",
      "para el numero 12 se debe decit fizz!!\n",
      "13\n",
      "14\n",
      "para el numero 15 se debe decit fizz buzz!!\n",
      "16\n",
      "17\n",
      "para el numero 18 se debe decit fizz!!\n",
      "19\n",
      "para el numero 20 se debe decit buzz!!\n",
      "para el numero 21 se debe decit fizz!!\n",
      "22\n",
      "23\n",
      "para el numero 24 se debe decit fizz!!\n",
      "para el numero 25 se debe decit buzz!!\n",
      "26\n",
      "para el numero 27 se debe decit fizz!!\n",
      "28\n",
      "29\n",
      "para el numero 30 se debe decit fizz buzz!!\n",
      "31\n",
      "32\n",
      "para el numero 33 se debe decit fizz!!\n",
      "34\n",
      "para el numero 35 se debe decit buzz!!\n",
      "para el numero 36 se debe decit fizz!!\n",
      "37\n",
      "38\n",
      "para el numero 39 se debe decit fizz!!\n",
      "para el numero 40 se debe decit buzz!!\n",
      "41\n",
      "para el numero 42 se debe decit fizz!!\n",
      "43\n",
      "44\n",
      "para el numero 45 se debe decit fizz buzz!!\n",
      "46\n",
      "47\n",
      "para el numero 48 se debe decit fizz!!\n",
      "49\n",
      "para el numero 50 se debe decit buzz!!\n",
      "para el numero 51 se debe decit fizz!!\n",
      "52\n",
      "53\n",
      "para el numero 54 se debe decit fizz!!\n",
      "para el numero 55 se debe decit buzz!!\n",
      "56\n",
      "para el numero 57 se debe decit fizz!!\n",
      "58\n",
      "59\n",
      "para el numero 60 se debe decit fizz buzz!!\n",
      "61\n",
      "62\n",
      "para el numero 63 se debe decit fizz!!\n",
      "64\n",
      "para el numero 65 se debe decit buzz!!\n",
      "para el numero 66 se debe decit fizz!!\n",
      "67\n",
      "68\n",
      "para el numero 69 se debe decit fizz!!\n",
      "para el numero 70 se debe decit buzz!!\n",
      "71\n",
      "para el numero 72 se debe decit fizz!!\n",
      "73\n",
      "74\n",
      "para el numero 75 se debe decit fizz buzz!!\n",
      "76\n",
      "77\n",
      "para el numero 78 se debe decit fizz!!\n",
      "79\n",
      "para el numero 80 se debe decit buzz!!\n",
      "para el numero 81 se debe decit fizz!!\n",
      "82\n",
      "83\n",
      "para el numero 84 se debe decit fizz!!\n",
      "para el numero 85 se debe decit buzz!!\n",
      "86\n",
      "para el numero 87 se debe decit fizz!!\n",
      "88\n",
      "89\n",
      "para el numero 90 se debe decit fizz buzz!!\n",
      "91\n",
      "92\n",
      "para el numero 93 se debe decit fizz!!\n",
      "94\n",
      "para el numero 95 se debe decit buzz!!\n",
      "para el numero 96 se debe decit fizz!!\n",
      "97\n",
      "98\n",
      "para el numero 99 se debe decit fizz!!\n",
      "para el numero 100 se debe decit buzz!!\n"
     ]
    }
   ],
   "source": [
    "#EXERCISE #72\n",
    "#EN FIZZ AND BUZZ , UNO NIÑO DICE UN NUMERO Y LOS DEMAS DICEN EL SIGUIENT ENTERO\n",
    "#NUMERO ES DIVISIBLE POR 3 DICEN FIZZ\n",
    "#NUMERO ES DIVISIBLE POR 5 DICEN BUZZ\n",
    "#NUMERO ES DIVISBLE POR 3 Y 5 DICEN BUZZ AND FIZZ\n",
    "#SI FALLA ES ELIMINADO\n",
    "#ESCRIBIR PROGRMA QUE MUESTRE LOS PRIMEROS 100 NUMEROS\n",
    "#CADA RESPUESTA DEBE SER MOSTRADA EN SU PROPIA LINEA\n",
    "\n",
    "\n",
    "for i in range(1,101):\n",
    "    if i%3==0 and i%5==0:\n",
    "        print(f\"para el numero {i} se debe decit fizz buzz!!\")\n",
    "    elif i%3==0:\n",
    "        print(f\"para el numero {i} se debe decit fizz!!\")\n",
    "    elif i%5==0:\n",
    "        print(f\"para el numero {i} se debe decit buzz!!\")\n",
    "    else:\n",
    "        print (f\"{i}\")\n",
    "        "
   ]
  },
  {
   "cell_type": "code",
   "execution_count": null,
   "metadata": {},
   "outputs": [],
   "source": [
    "PRACTICA PARA EL EXAMEN"
   ]
  },
  {
   "cell_type": "code",
   "execution_count": 7,
   "metadata": {},
   "outputs": [
    {
     "name": "stdout",
     "output_type": "stream",
     "text": [
      "El importe total sera 10.02 dolares\n",
      "El importe total redondeado sera 10.0 dolares \n"
     ]
    }
   ],
   "source": [
    "#EXERCISE 66\n",
    "\n",
    "#INPUT:PRECIOS HASTA QUE SE INGRESE UNA LINEA EN BLANCO\n",
    "#OUTPUT 1RA LINEA: COSTO TOTAL DE TODO LOS PRECIOS\n",
    "#OUTPUT 2DA LINEA: TOTAL A PAGAR POR EL CLIENTE (REDONDEADE AL NICKEL MAS CERCANO)\n",
    "\n",
    "acumulador=0\n",
    "centinela=0\n",
    "while centinela!=\"\":\n",
    "    precio_unidad=input(\"ingresar precios de productos\")\n",
    "    if precio_unidad==\"\":\n",
    "        centinela=\"\"\n",
    "    else:\n",
    "        acumulador+=float(precio_unidad)\n",
    "\n",
    "print(f\"El importe total sera {acumulador} dolares\")\n",
    "\n",
    "if (acumulador*100)%5>=2.5:\n",
    "    acumulador_redondeado=(((acumulador*100)//5)*5)/100+0.05\n",
    "    print(f\"El importe total redondeado sera {acumulador_redondeado} dolares\")\n",
    "else:\n",
    "    acumulador_redondeado=(((acumulador*100)//5)*5)/100\n",
    "    print(f\"El importe total redondeado sera {acumulador_redondeado} dolares \")"
   ]
  },
  {
   "cell_type": "code",
   "execution_count": 10,
   "metadata": {},
   "outputs": [
    {
     "name": "stdout",
     "output_type": "stream",
     "text": [
      "16.0\n"
     ]
    }
   ],
   "source": [
    "#EXERCISE 78 \n",
    "\n",
    "\n",
    "# Una secuencia de enteros que es construida de la siguiente manera\n",
    "# INPUT:ENTERO (N) REPORTE TODOS LOS VALORES EN LA SECUENCIA EMPEZANDO CON N Y TERMINE CON 1\n",
    "# NOS DEBE PERMITIR SEGUIR INGRESANDO N VALORES \n",
    "# OUTPUT: DEBE CONTINUAR MOSTANDO LA SECUENCIA\n",
    "# LA MISMA TERMINARA CUANTO SE INGRESE UN N<=0\n",
    "\n",
    "\n",
    "\n",
    "n=20\n",
    "\n",
    "while n!=1:\n",
    "    if n%2==0:\n",
    "        n=n/2\n",
    "        print(n)\n",
    "    else:\n",
    "        n=(3*n)+1\n",
    "        print(n)\n",
    "    \n",
    "\n",
    "    \n",
    "\n",
    "    \n"
   ]
  }
 ],
 "metadata": {
  "kernelspec": {
   "display_name": "Python 3",
   "language": "python",
   "name": "python3"
  },
  "language_info": {
   "codemirror_mode": {
    "name": "ipython",
    "version": 3
   },
   "file_extension": ".py",
   "mimetype": "text/x-python",
   "name": "python",
   "nbconvert_exporter": "python",
   "pygments_lexer": "ipython3",
   "version": "3.10.undefined"
  }
 },
 "nbformat": 4,
 "nbformat_minor": 2
}
