{
 "cells": [
  {
   "cell_type": "code",
   "execution_count": null,
   "metadata": {},
   "outputs": [],
   "source": [
    "#EJERCICIO 136\n",
    "#1. Escriba funcion \"reverselookup\" que encuente las claves que se asigan a un valor especifico\n",
    "#2. Los parametros de la funcion sera el dictionario y los valores\n",
    "#3. Se retornara una lista de llaves que esten asociadas a los valores asociados\n",
    "#4. Incluir un programa principal que demuestre la funcion\n",
    "#5. El programa debe crear un dictionario y mediante la funcion retorne multiples llaves, sola\n",
    "#   una llave y ninguna llave\n",
    "\n"
   ]
  },
  {
   "cell_type": "code",
   "execution_count": 27,
   "metadata": {},
   "outputs": [
    {
     "name": "stdout",
     "output_type": "stream",
     "text": [
      "['b', 'd', 'e']\n",
      "['a']\n",
      "[]\n"
     ]
    }
   ],
   "source": [
    "\n",
    "def reverselookup(diccionario_original,valor_x):\n",
    "    lista_llaves=[]   \n",
    "    for clave in diccionario_original:\n",
    "        if diccionario_original[clave]==valor_x:\n",
    "            lista_llaves.append(clave)\n",
    "    return lista_llaves\n",
    "    \n",
    "\n",
    "def programaprincipal():\n",
    "    dicc_prueba={\"a\":1,\"b\":2,\"c\":3,\"d\":2,\"e\":2}\n",
    "    multiples_llaves=reverselookup(dicc_prueba,2)\n",
    "    print(multiples_llaves)\n",
    "    una_llave=reverselookup(dicc_prueba,1)\n",
    "    print(una_llave) \n",
    "    lista_vacia=reverselookup(dicc_prueba,5)\n",
    "    return lista_vacia\n",
    "    \n",
    "demostracion=programaprincipal()\n",
    "print(demostracion)"
   ]
  },
  {
   "cell_type": "code",
   "execution_count": 1,
   "metadata": {},
   "outputs": [
    {
     "name": "stdout",
     "output_type": "stream",
     "text": [
      "bienvenido equivale a 16 puntos\n"
     ]
    }
   ],
   "source": [
    "# EXERCISE #145\n",
    "\n",
    "#1. En scrabble cada letra tiene puntos asociada con esta\n",
    "#2. El puntaje total de una palabra es la suma de los puntajes de cada letra\n",
    "#3. Escribir un programa que calcule y muestre el puntaje de scramble de una palabra\n",
    "#4. El programa debe usar un dictionario que asigne a las letras puntajes, se debe usar \n",
    "#    el dictionario para calcular el puntaje\n",
    "\n",
    "\n",
    "puntaje_letras = {\n",
    "    \"A\": 1, \"E\": 1, \"I\": 1, \"L\": 1, \"N\": 1, \"O\": 1, \"R\": 1, \"S\": 1, \"T\": 1, \"U\": 1,\n",
    "    \"D\": 2, \"G\": 2,\n",
    "    \"B\": 3, \"C\": 3, \"M\": 3, \"P\": 3,\n",
    "    \"F\": 4, \"H\": 4, \"V\": 4, \"W\": 4, \"Y\": 4,\n",
    "    \"K\": 5,\n",
    "    \"J\": 8, \"X\": 8,\n",
    "    \"Q\": 10, \"Z\": 10\n",
    "}\n",
    "\n",
    "palabra=input(\"Ingresa una palabra: \")\n",
    "mayuscula=palabra.upper()\n",
    "puntaje=0\n",
    "\n",
    "for caracter in mayuscula:\n",
    "    puntaje+=puntaje_letras[caracter]\n",
    "        \n",
    "print(f\"{palabra} equivale a {puntaje} puntos\")\n",
    "                "
   ]
  },
  {
   "cell_type": "code",
   "execution_count": 8,
   "metadata": {},
   "outputs": [
    {
     "name": "stdout",
     "output_type": "stream",
     "text": [
      "B I N G O\n"
     ]
    }
   ],
   "source": [
    "#EXERCISE 146\n",
    "\n",
    "# Escribe una funcion que cree una tarjeta de bingo aleatoria y se guarde en un diccionario \n",
    "# Las claves seran las letras B,I,N,G,O y los valores seran los 5 numeros que aparecen debajo de cada letra \n",
    "# Escribe una segunda funcion que muestre la tarjeta bingo con las columnas etiquetadas apropiadamente\n",
    "\n",
    "\n",
    "\n",
    "#FUNCION DICCIONARIO BINGO:\n",
    "import random\n",
    "\n",
    "def diccionariobingo():\n",
    "    clave=[\"B\",\"I\",\"N\",\"G\",\"O\"]\n",
    "    valores=[]\n",
    "    primera_columna=[]\n",
    "    segunda_columna=[]\n",
    "    tercera_columna=[]\n",
    "    cuarta_columna=[]\n",
    "    quinta_columna=[]\n",
    "    for letra in clave:\n",
    "        if letra==\"B\":\n",
    "            for i in range(5):\n",
    "                aleatorio=random.randint(1,15)\n",
    "                primera_columna.append(aleatorio)\n",
    "            valores.append(primera_columna)\n",
    "        elif letra==\"I\":\n",
    "            for i in range(5):\n",
    "                aleatorio=random.randint(16,30)\n",
    "                segunda_columna.append(aleatorio)\n",
    "            valores.append(segunda_columna)\n",
    "        elif letra==\"N\":\n",
    "            for i in range(5):\n",
    "                aleatorio=random.randint(31,45)\n",
    "                tercera_columna.append(aleatorio)\n",
    "            valores.append(tercera_columna)\n",
    "        elif letra==\"G\":\n",
    "            for i in range(5):\n",
    "                aleatorio=random.randint(46,60)\n",
    "                cuarta_columna.append(aleatorio)\n",
    "            valores.append(cuarta_columna)\n",
    "        else:\n",
    "            for i in range(5):\n",
    "                aleatorio=random.randint(61,75)\n",
    "                quinta_columna.append(aleatorio)\n",
    "            valores.append(quinta_columna)\n",
    "    diccionario_bingo={}\n",
    "    for x in range(len(clave)):\n",
    "        diccionario_bingo[clave[x]]=valores[x] \n",
    "    return diccionario_bingo\n",
    "\n",
    "def tarjetabingo():\n",
    "    clave=[\"B\",\"I\",\"N\",\"G\",\"O\"]\n",
    "    dingo=diccionariobingo()\n",
    "    valores_diccionario=tuple(dingo.values())\n",
    "    p1,p2,p3,p4,p5=valores_diccionario\n",
    "    combinacion= zip(p1,p2,p3,p4,p5)\n",
    "    combinacion=list((combinacion))\n",
    "\n",
    "    palabra_bingo =\" \".join(clave)\n",
    "    return palabra_bingo\n",
    "    for tupl in combinacion:  \n",
    "        cadena_numeros = \" \".join(str(numero) for numero in tupl)\n",
    "        return cadena_numeros\n",
    "\n",
    "crearbingo=tarjetabingo()\n",
    "print(crearbingo)"
   ]
  },
  {
   "cell_type": "code",
   "execution_count": 9,
   "metadata": {},
   "outputs": [
    {
     "name": "stdout",
     "output_type": "stream",
     "text": [
      "222222\n"
     ]
    }
   ],
   "source": [
    "diccionario_puls={\"A\":2,\"B\":22,\"C\":222}\n",
    "\n",
    "cadena=\"BABA\"\n",
    "cadena_vacia=\"\"\n",
    "for caracter in cadena:\n",
    "    if caracter in diccionario_puls:\n",
    "        cadena_vacia += str(diccionario_puls[caracter])\n",
    "    else:\n",
    "        cadena_vacia += \"\"\n",
    "print(cadena_vacia)\n",
    "    "
   ]
  },
  {
   "cell_type": "code",
   "execution_count": null,
   "metadata": {},
   "outputs": [],
   "source": [
    "EJERCICIOS PARA EXAMEN"
   ]
  },
  {
   "cell_type": "code",
   "execution_count": 3,
   "metadata": {},
   "outputs": [
    {
     "name": "stdout",
     "output_type": "stream",
     "text": [
      "{1: 1, 2: 4, 3: 9, 4: 16, 5: 25, 6: 36, 7: 49, 8: 64, 9: 81, 10: 100}\n"
     ]
    }
   ],
   "source": [
    "#EXERCISE 6 (W3RESOURCE)\n",
    "\n",
    "#Write a Python script to generate and print a dictionary that contains a number \n",
    "#(between 1 and n) in the form (x, x*x).\n",
    "#Ejemplo\n",
    "#Sample Dictionary ( n = 5) :\n",
    "#Expected Output : {1: 1, 2: 4, 3: 9, 4: 16, 5: 25}\n",
    "\n",
    "diccionario_numero={}\n",
    "\n",
    "def generar_diccionario(numero):\n",
    "    for i in range(1,numero+1):\n",
    "        diccionario_numero[i]=i**2\n",
    "    return diccionario_numero\n",
    "\n",
    "crear_diccionario=generar_diccionario(10)\n",
    "print(crear_diccionario)"
   ]
  },
  {
   "cell_type": "code",
   "execution_count": 13,
   "metadata": {},
   "outputs": [
    {
     "name": "stdout",
     "output_type": "stream",
     "text": [
      "El valor maximo del diccionario es 25 y el valor minimo es 1\n"
     ]
    }
   ],
   "source": [
    "#EXERCISE 15 (W3RESOURCE)\n",
    "\n",
    "#Write a Python program to get the maximum and minimum values of a dictionary.\n",
    "\n",
    "\n",
    "lista_valores=[]\n",
    "def maxandmin_dicc(diccionario_15):\n",
    "    for clave in diccionario_15:\n",
    "        diccionario_15[clave]\n",
    "        lista_valores.append(diccionario_15[clave])\n",
    "    return f\"El valor maximo del diccionario es {max(lista_valores)} y el valor minimo es {min(lista_valores)}\"\n",
    "\n",
    "\n",
    "hallar_valores=maxandmin_dicc({1: 1, 2: 4, 3: 9, 4: 16, 5: 25})\n",
    "print(hallar_valores)\n",
    "    \n"
   ]
  },
  {
   "cell_type": "code",
   "execution_count": 19,
   "metadata": {},
   "outputs": [
    {
     "name": "stdout",
     "output_type": "stream",
     "text": [
      "clave:1,valor:1 ,item:1:1\n",
      "clave:2,valor:4 ,item:2:4\n",
      "clave:3,valor:9 ,item:3:9\n",
      "clave:4,valor:16 ,item:4:16\n",
      "clave:5,valor:25 ,item:5:25\n"
     ]
    }
   ],
   "source": [
    "#EXERCISE 31 (W3RESOURCE)\n",
    "\n",
    "#Write a Python program to get the key, value and item in a dictionary.\n",
    "\n",
    "def obtener(diccionario_31):\n",
    "    for clave,valor in diccionario_31.items():\n",
    "        print(f\"clave:{clave},valor:{valor} ,item:{clave}:{valor}\")\n",
    "        \n",
    "datos=obtener({1: 1, 2: 4, 3: 9, 4: 16, 5: 25})\n",
    "\n"
   ]
  }
 ],
 "metadata": {
  "kernelspec": {
   "display_name": "Python 3",
   "language": "python",
   "name": "python3"
  },
  "language_info": {
   "codemirror_mode": {
    "name": "ipython",
    "version": 3
   },
   "file_extension": ".py",
   "mimetype": "text/x-python",
   "name": "python",
   "nbconvert_exporter": "python",
   "pygments_lexer": "ipython3",
   "version": "3.10.11"
  }
 },
 "nbformat": 4,
 "nbformat_minor": 2
}
