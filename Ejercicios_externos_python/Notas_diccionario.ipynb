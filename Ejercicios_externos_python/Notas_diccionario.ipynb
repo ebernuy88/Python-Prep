{
 "cells": [
  {
   "cell_type": "code",
   "execution_count": null,
   "metadata": {},
   "outputs": [],
   "source": [
    "#1 CREACION DE DICCIONARIOS \n",
    "\n",
    "# Creación de un diccionario vacío\n",
    "mi_diccionario = {}\n",
    "\n",
    "# Creación de un diccionario con valores iniciales\n",
    "otro_diccionario = {\"nombre\": \"Juan\", \"edad\": 30, \"ciudad\": \"Madrid\"}"
   ]
  },
  {
   "cell_type": "code",
   "execution_count": null,
   "metadata": {},
   "outputs": [],
   "source": [
    "#2 ACCESO A ELEMENTOS\n",
    "\n",
    "# Acceder al valor de una clave\n",
    "nombre = otro_diccionario[\"nombre\"]\n",
    "print(nombre)  # Salida: Juan\n",
    "\n",
    "# Obtener el valor de una clave o un valor predeterminado si la clave no existe ,utilizando el método get()\n",
    "edad = otro_diccionario.get(\"edad\")\n",
    "print(edad)  # Salida: 30"
   ]
  },
  {
   "cell_type": "code",
   "execution_count": null,
   "metadata": {},
   "outputs": [],
   "source": [
    "#3. MODIFICACIÒN DE ELEMENTOS \n",
    "\n",
    "otro_diccionario[\"edad\"] = 35\n",
    "print(otro_diccionario)  # Salida: {'nombre': 'Juan', 'edad': 35, 'ciudad': 'Madrid'}"
   ]
  },
  {
   "cell_type": "code",
   "execution_count": null,
   "metadata": {},
   "outputs": [],
   "source": [
    "#4. AGREGAR NUEVOS ELEMENTOS\n",
    "\n",
    "# Agregar un nuevo par clave-valor\n",
    "otro_diccionario[\"profesion\"] = \"Ingeniero\"\n",
    "print(otro_diccionario)  # Salida: {'nombre': 'Juan', 'edad': 35, 'ciudad': 'Madrid', 'profesion': 'Ingeniero'}"
   ]
  },
  {
   "cell_type": "code",
   "execution_count": null,
   "metadata": {},
   "outputs": [],
   "source": [
    "#5. ELIMINAR ELEMENTOS \n",
    "\n",
    "# Eliminar un par clave-valor\n",
    "del otro_diccionario[\"ciudad\"]\n",
    "print(otro_diccionario)  # Salida: {'nombre': 'Juan', 'edad': 35, 'profesion': 'Ingeniero'}\n",
    "\n",
    "# Eliminar todos los elementos de un diccionario\n",
    "otro_diccionario.clear()\n",
    "print(otro_diccionario)  # Salida: {}"
   ]
  },
  {
   "cell_type": "code",
   "execution_count": null,
   "metadata": {},
   "outputs": [],
   "source": [
    "#6. RECORRIDO DE UN DICCIONARIO\n",
    "\n",
    "# Recorrer todas las claves de un diccionario\n",
    "for clave in otro_diccionario:\n",
    "    print(clave)\n",
    "\n",
    "# Recorrer todas las claves y valores de un diccionario\n",
    "for clave, valor in otro_diccionario.items():\n",
    "    print(clave, valor)\n"
   ]
  },
  {
   "cell_type": "code",
   "execution_count": null,
   "metadata": {},
   "outputs": [],
   "source": [
    "#7. VERIFICAR SI UNA CLAVE EXISTE\n",
    "\n",
    "# Verificar si una clave existe en un diccionario\n",
    "if \"nombre\" in otro_diccionario:\n",
    "    print(\"La clave 'nombre' existe en el diccionario\")"
   ]
  },
  {
   "cell_type": "code",
   "execution_count": null,
   "metadata": {},
   "outputs": [],
   "source": [
    "#8.FUNCION LEN\n",
    "\n",
    "# Devuelve el número de elementos en un diccionario.\n",
    "\n",
    "mi_diccionario = {\"nombre\": \"Juan\", \"edad\": 30, \"ciudad\": \"Madrid\"}\n",
    "print(len(mi_diccionario))  # Salida: 3\n"
   ]
  },
  {
   "cell_type": "code",
   "execution_count": null,
   "metadata": {},
   "outputs": [],
   "source": [
    "#9. METODO KEYS\n",
    "\n",
    "# Devuelve una vista de las claves en el diccionario.\n",
    "\n",
    "mi_diccionario = {\"nombre\": \"Juan\", \"edad\": 30, \"ciudad\": \"Madrid\"}\n",
    "claves = mi_diccionario.keys()\n",
    "print(claves)  # Salida: dict_keys(['nombre', 'edad', 'ciudad'])"
   ]
  },
  {
   "cell_type": "code",
   "execution_count": null,
   "metadata": {},
   "outputs": [],
   "source": [
    "#10. METODO VALUES\n",
    "\n",
    "# Devuelve una vista de los valores en el diccionario.\n",
    "\n",
    "valores = mi_diccionario.values()\n",
    "print(valores)  # Salida: dict_values(['Juan', 30, 'Madrid'])"
   ]
  },
  {
   "cell_type": "code",
   "execution_count": null,
   "metadata": {},
   "outputs": [],
   "source": [
    "#11. METODO ITEMS\n",
    "\n",
    "items = mi_diccionario.items()\n",
    "print(items)  # Salida: dict_items([('nombre', 'Juan'), ('edad', 30), ('ciudad', 'Madrid')])"
   ]
  },
  {
   "cell_type": "code",
   "execution_count": null,
   "metadata": {},
   "outputs": [],
   "source": [
    "#12. METODO UPDATE\n",
    "\n",
    "# Actualiza el diccionario con elementos de otro diccionario o de una lista de pares clave-valor.\n",
    "\n",
    "mi_diccionario.update({\"profesion\": \"Ingeniero\", \"ciudad\": \"Barcelona\"})\n",
    "print(mi_diccionario)  # Salida: {'nombre': 'Juan', 'edad': 30, 'ciudad': 'Barcelona', 'profesion': 'Ingeniero'}\n"
   ]
  },
  {
   "cell_type": "code",
   "execution_count": null,
   "metadata": {},
   "outputs": [],
   "source": [
    "#13. METODO POP\n",
    "\n",
    "#  Elimina y devuelve el valor asociado a una clave.\n",
    "\n",
    "nombre = mi_diccionario.pop(\"nombre\")\n",
    "print(nombre)  # Salida: Juan\n",
    "print(mi_diccionario)  # Salida: {'edad': 30, 'ciudad': 'Barcelona', 'profesion': 'Ingeniero'}"
   ]
  },
  {
   "cell_type": "code",
   "execution_count": null,
   "metadata": {},
   "outputs": [],
   "source": [
    "#14. METODO POPITEM\n",
    "\n",
    "# Elimina y devuelve un par clave-valor arbitrario del diccionario\n",
    "\n",
    "par = mi_diccionario.popitem()\n",
    "print(par)  # Salida: ('profesion', 'Ingeniero')\n",
    "print(mi_diccionario)  # Salida: {'edad': 30, 'ciudad': 'Barcelona'}"
   ]
  },
  {
   "cell_type": "code",
   "execution_count": null,
   "metadata": {},
   "outputs": [],
   "source": [
    "#CONSULTAR EN REDES\n",
    "\n",
    "#Ejercicio 3: Diccionario inverso\n",
    "#Dado un diccionario que mapea nombres a edades, crear un diccionario inverso que mapee edades a nombres.\n",
    "\n",
    "edades = {\"Juan\": 20, \"María\": 22, \"Pedro\": 21}\n",
    "\n",
    "inverso = {}\n",
    "for nombre, edad in edades.items():\n",
    "    if edad in inverso:\n",
    "        inverso[edad].append(nombre)\n",
    "    else:\n",
    "        inverso[edad] = [nombre]\n",
    "\n",
    "print(\"Diccionario inverso:\")\n",
    "for edad, nombres in inverso.items():\n",
    "    print(edad, \":\", nombres)"
   ]
  },
  {
   "cell_type": "code",
   "execution_count": null,
   "metadata": {},
   "outputs": [],
   "source": [
    "#Ejercicio 4: Combinación de diccionarios con valores de lista\n",
    "\n",
    "#Dadas dos listas de diccionarios con la misma estructura,\n",
    "#combina los diccionarios en una sola lista manteniendo la estructura de la lista.\n",
    "\n",
    "lista1 = [{\"a\": 1}, {\"b\": 2}, {\"c\": 3}]\n",
    "lista2 = [{\"x\": 4}, {\"y\": 5}, {\"z\": 6}]\n",
    "\n",
    "combinado = []\n",
    "for d1, d2 in zip(lista1, lista2):\n",
    "    combinado.append({**d1, **d2})\n",
    "\n",
    "print(\"Lista combinada:\", combinado)\n",
    "\n"
   ]
  },
  {
   "cell_type": "code",
   "execution_count": null,
   "metadata": {},
   "outputs": [],
   "source": [
    "#Ejercicio 5: Palabras únicas más largas en un texto\n",
    "\n",
    "#Dado un texto, encuentra todas las palabras únicas más largas\n",
    "#y cuántas veces aparecen en el texto\n",
    "\n",
    "texto = \"El gato blanco salta sobre el perro negro. El perro ladra y el gato maúlla.\"\n",
    "\n",
    "palabras = texto.split()\n",
    "frecuencia = {}\n",
    "\n",
    "for palabra in palabras:\n",
    "    palabra = palabra.strip(\".,!?\").lower()\n",
    "    if palabra not in frecuencia or len(palabra) > len(frecuencia[palabra]):\n",
    "        frecuencia[palabra] = palabra.count(palabra)\n",
    "\n",
    "print(\"Palabras únicas más largas:\")\n",
    "for palabra, count in frecuencia.items():\n",
    "    print(palabra, \":\", count)"
   ]
  },
  {
   "cell_type": "code",
   "execution_count": null,
   "metadata": {},
   "outputs": [],
   "source": []
  }
 ],
 "metadata": {
  "language_info": {
   "name": "python"
  }
 },
 "nbformat": 4,
 "nbformat_minor": 2
}
