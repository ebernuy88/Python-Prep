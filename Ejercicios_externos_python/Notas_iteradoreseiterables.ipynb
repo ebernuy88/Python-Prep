{
 "cells": [
  {
   "cell_type": "code",
   "execution_count": null,
   "metadata": {},
   "outputs": [],
   "source": [
    "#ITERABLES#"
   ]
  },
  {
   "cell_type": "code",
   "execution_count": null,
   "metadata": {},
   "outputs": [],
   "source": [
    "#1.FORMAS DE ITERAR CLASES ITERABLES:\n",
    "\n",
    "#Una clase iterable es todo los que pueda iterarse como por ejemplo \n",
    "#listas , strings,diccionarios o ficheres\n",
    "\n",
    "#ITERAR LISTA\n",
    "\n",
    "# Mal uso\n",
    "\n",
    "lista = [5, 4, 9, 2]\n",
    "i = 0\n",
    "while i < len(lista):\n",
    "    elemento = lista[i]\n",
    "    print(elemento)\n",
    "    i += 1\n",
    "# Salida: 5, 4, 9, 2\n",
    "\n",
    "# Mal uso\n",
    "    \n",
    "lista = [5, 4, 9, 2]\n",
    "for i in range(len(lista)):\n",
    "    elemento = lista[i]\n",
    "    print(elemento)\n",
    "# Salida: 5, 4, 9, 2\n",
    "\n",
    "#Las clases iterables se iteran con un ciclo for\n",
    "    \n",
    "lista = [5, 4, 9, 2]\n",
    "for elemento in lista:\n",
    "    print(elemento)\n",
    "# Salida 5, 4, 9, 2\n",
    "\n",
    "#ITERAR CADENA \n",
    "cadena = \"Hola\"\n",
    "for c in cadena:\n",
    "    print(c)\n",
    "# Salida: H o l a\n",
    "\n",
    "#ITERAR CLAVES DE UN DICCIONARIO \n",
    "mi_dict = {'a':1, 'b':2, 'c':3}\n",
    "for i in mi_dict:\n",
    "    print(i)\n",
    "# Salida: a, b, c\n",
    "    \n",
    "#ITERAR VALORES DE UN DICCIONARIO\n",
    "countries_capital = {\n",
    "    \"USA\": \"Washington D.C.\",\n",
    "    \"Australia\": \"Canberra\",\n",
    "    \"France\": \"Paris\",\n",
    "    \"Egypt\": \"Cairo\",\n",
    "    \"Japan\": \"Tokyo\"\n",
    "}\n",
    "\n",
    "for capital in countries_capital.values():\n",
    "    print(capital)\n",
    "\n",
    "#ITERAR CLAVE-VALOR DE UN DICCIONARIO\n",
    "    \n",
    "ountries_capital = {\n",
    "    \"USA\": \"Washington D.C.\",\n",
    "    \"Australia\": \"Canberra\",\n",
    "    \"France\": \"Paris\",\n",
    "    \"Egypt\": \"Cairo\",\n",
    "    \"Japan\": \"Tokyo\"\n",
    "}\n",
    "\n",
    "for country, capital in countries_capital.items():\n",
    "    print(country, \":\", capital)"
   ]
  },
  {
   "cell_type": "code",
   "execution_count": 6,
   "metadata": {},
   "outputs": [
    {
     "name": "stdout",
     "output_type": "stream",
     "text": [
      "cadena True\n",
      "numero False\n"
     ]
    }
   ],
   "source": [
    "#2.PODEMOS USAR ISINTANCE PARA VERIFICAR SI UNA CLASE ES ITERABLE\n",
    "\n",
    "from collections.abc import Iterable\n",
    "\n",
    "cadena = \"Hola\"\n",
    "numero = 3\n",
    "print(\"cadena\", isinstance(cadena, Iterable))\n",
    "print(\"numero\", isinstance(numero, Iterable))\n",
    "\n",
    "# Salida\n",
    "# cadena True\n",
    "# numero False "
   ]
  },
  {
   "cell_type": "code",
   "execution_count": 1,
   "metadata": {},
   "outputs": [
    {
     "name": "stdout",
     "output_type": "stream",
     "text": [
      "Apple 0\n",
      "Mango 1\n",
      "Peach 2\n",
      "Orange 3\n",
      "Banana 4\n",
      "Apple 2\n",
      "Mango 3\n",
      "Peach 4\n",
      "Orange 5\n",
      "Banana 6\n"
     ]
    }
   ],
   "source": [
    "#3.ENUMERATE\n",
    "\n",
    "#Es una iteracion que devuelve tanto el indice como el valor\n",
    "\n",
    "fruits_list = [\"Apple\", \"Mango\", \"Peach\", \"Orange\", \"Banana\"]\n",
    "\n",
    "for index, fruit in enumerate(fruits_list):\n",
    "    print(fruit, index)\n",
    "\n",
    "#Tambien te permite especificar el indice inicial para  la iteracion\n",
    "    \n",
    "fruits_list = [\"Apple\", \"Mango\", \"Peach\", \"Orange\", \"Banana\"]\n",
    "for index, fruit in enumerate(fruits_list, start = 2):\n",
    "    print(fruit, index)"
   ]
  },
  {
   "cell_type": "code",
   "execution_count": null,
   "metadata": {},
   "outputs": [],
   "source": [
    "#4.OTROS METODOS QUE PODEMOS UTILIZAR \n",
    "\n",
    "#list() convierte a lista una clase iterable\n",
    "#sum() para sumar\n",
    "#join() permite unir cada elemento de una clase iterable con el primer argumento usado.\n",
    "\n",
    "print(list(\"Hola\"))\n",
    "print(sum([1, 2, 3]))\n",
    "print(\"-\".join(\"Hola\"))\n",
    "\n",
    "# Salida:\n",
    "#['H', 'o', 'l', 'a']\n",
    "#6\n",
    "#H-o-l-a\n"
   ]
  },
  {
   "cell_type": "code",
   "execution_count": null,
   "metadata": {},
   "outputs": [],
   "source": [
    "#ITERADORES#"
   ]
  },
  {
   "cell_type": "code",
   "execution_count": null,
   "metadata": {},
   "outputs": [],
   "source": [
    "#ITERADOR\n",
    "\n",
    "#Un iterador es como el marcapagina de un libro (te permite ubicarte y desplazarte por el libro)\n",
    "#y el libro seria como un iterable\n",
    "\n",
    "#1.FUNCION ITER\n",
    "\n",
    "#Permite obtener un iterador a partir de un iterable\n",
    "\n",
    "libro = ['página1', 'página2', 'página3', 'página4']\n",
    "marcapaginas = iter(libro)\n",
    "\n",
    "\n"
   ]
  },
  {
   "cell_type": "code",
   "execution_count": null,
   "metadata": {},
   "outputs": [],
   "source": [
    "#2.FUNCION NEXT\n",
    "\n",
    "#Podemos acceder secuncialmente a cada elemento de un iterable\n",
    "\n",
    "print(next(marcapaginas))\n",
    "print(next(marcapaginas))\n",
    "print(next(marcapaginas))\n",
    "print(next(marcapaginas))\n",
    "\n",
    "# página1\n",
    "# página2\n",
    "# página3\n",
    "# página4"
   ]
  },
  {
   "cell_type": "code",
   "execution_count": null,
   "metadata": {},
   "outputs": [],
   "source": [
    "#3.FUNCION COMPRENSION DE LISTA\n",
    "\n",
    "#Te permite crear una nueva lista a partir de otra\n",
    "\n",
    "my_numbers = [11, 12, 13, 14, 15, 16, 17, 18, 19, 20]\n",
    "even_number_list = [num for num in my_numbers if num%2 == 0]\n",
    "print(even_number_list)\n",
    "\n",
    "\n",
    "\n",
    "\n"
   ]
  },
  {
   "cell_type": "code",
   "execution_count": null,
   "metadata": {},
   "outputs": [],
   "source": [
    "#4.FUNCION ZIP\n",
    "\n",
    "#Permite combinar varios iterables en tuplas \n",
    "\n",
    "fruits = [\"apple\", \"orange\", \"banana\"]\n",
    "rating = [1, 2, 3]\n",
    "\n",
    "fruits_rating = zip(rating, fruits)\n",
    "print(list(fruits_rating))\n",
    "\n",
    "#Resultado\n",
    "\n",
    "[(1, 'apple'), (2, 'orange'), (3, 'banana')]"
   ]
  },
  {
   "cell_type": "code",
   "execution_count": null,
   "metadata": {},
   "outputs": [],
   "source": [
    "#5.FUNCION SORTED\n",
    "\n",
    "#Permite ordenar los elementos de un iterables en orden ascendete o descendente \n",
    "\n",
    "# set\n",
    "py_set = {'e', 'a', 'u', 'o', 'i'}\n",
    "print(sorted(py_set, reverse=True))\n",
    "\n",
    "# dictionary\n",
    "py_dict = {'e': 1, 'a': 2, 'u': 3, 'o': 4, 'i': 5}\n",
    "print(sorted(py_dict, reverse=True))\n",
    "\n",
    "# frozen set\n",
    "frozen_set = frozenset(('e', 'a', 'u', 'o', 'i'))\n",
    "print(sorted(frozen_set, reverse=True))\n",
    "\n",
    "# string\n",
    "string = \"kinsta\"\n",
    "print(sorted(string))\n",
    "\n",
    "# list\n",
    "py_list = ['a', 'e', 'i', 'o', 'u']\n",
    "print(py_list)\n",
    "\n",
    "#Resultado\n",
    "\n",
    "['u', 'o', 'i', 'e', 'a']\n",
    "['u', 'o', 'i', 'e', 'a']\n",
    "['u', 'o', 'i', 'e', 'a']\n",
    "['a', 'i', 'k', 'n', 's', 't']\n",
    "['a', 'e', 'i', 'o', 'u']"
   ]
  }
 ],
 "metadata": {
  "kernelspec": {
   "display_name": "Python 3",
   "language": "python",
   "name": "python3"
  },
  "language_info": {
   "codemirror_mode": {
    "name": "ipython",
    "version": 3
   },
   "file_extension": ".py",
   "mimetype": "text/x-python",
   "name": "python",
   "nbconvert_exporter": "python",
   "pygments_lexer": "ipython3",
   "version": "3.10.11"
  }
 },
 "nbformat": 4,
 "nbformat_minor": 2
}
