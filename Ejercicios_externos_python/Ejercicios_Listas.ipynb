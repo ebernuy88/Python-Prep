{
 "cells": [
  {
   "cell_type": "code",
   "execution_count": 5,
   "metadata": {},
   "outputs": [
    {
     "name": "stdout",
     "output_type": "stream",
     "text": [
      "3\n",
      "4\n",
      "5\n",
      "8\n"
     ]
    }
   ],
   "source": [
    "#EXERCISE 110\n",
    "\n",
    "\n",
    "\n",
    "centinela=0\n",
    "lista_valores=[]\n",
    "\n",
    "while centinela !=-1:\n",
    "    valor_ingresado=int(input(\"Ingrese un numero entero (-1 para salir): \"))\n",
    "\n",
    "    if valor_ingresado==-1:\n",
    "        centinela=-1\n",
    "    else:\n",
    "        lista_valores.append(valor_ingresado)\n",
    "        lista_valores.sort()\n",
    "        \n",
    "for elemento in lista_valores:\n",
    "    print(elemento)"
   ]
  },
  {
   "cell_type": "code",
   "execution_count": 14,
   "metadata": {},
   "outputs": [
    {
     "name": "stdout",
     "output_type": "stream",
     "text": [
      "-9\n",
      "-6\n",
      "0\n",
      "2\n",
      "3\n",
      "5\n"
     ]
    }
   ],
   "source": [
    "centinela=0\n",
    "lista_positivos=[]\n",
    "lista_cero=[]\n",
    "lista_negativos=[]\n",
    "\n",
    "\n",
    "while centinela !=\"\":\n",
    "    entrada= input(\"Ingrese un numero entero (presione enter para salir): \")\n",
    "    \n",
    "    if entrada==\"\":\n",
    "        centinela=\"\"\n",
    "    else:\n",
    "        numero=int(entrada)\n",
    "        if numero < 0:\n",
    "            lista_negativos.append(numero)\n",
    "        elif numero==0:\n",
    "            lista_cero.append(numero)\n",
    "        elif numero > 0:\n",
    "            lista_positivos.append(numero)\n",
    "\n",
    "lista_total=lista_negativos + lista_cero + lista_positivos\n",
    "for elemento in lista_total:\n",
    "    print(elemento)\n"
   ]
  },
  {
   "cell_type": "code",
   "execution_count": 6,
   "metadata": {},
   "outputs": [
    {
     "name": "stdout",
     "output_type": "stream",
     "text": [
      "True\n"
     ]
    }
   ],
   "source": [
    "\n",
    "\n",
    "\n",
    "def orden_lista(lista):\n",
    "    \n",
    "    for i in range(len(lista)):\n",
    "        if lista[i]<lista[i+1]:\n",
    "            return True\n",
    "        elif lista[i]>lista[i+1]:\n",
    "            return True\n",
    "        else:\n",
    "            return False\n",
    "        \n",
    "entrada_usuario = input(\"Ingrese una lista de números separados por espacios: \")\n",
    "lista = [int(numero) for numero in entrada_usuario.split()]\n",
    "\n",
    "\n",
    "validacion_lista=orden_lista(lista)\n",
    "print(validacion_lista)\n",
    "       \n",
    "\n",
    "\n",
    "\n",
    "\n",
    "\n",
    "        \n",
    "\n",
    "        \n",
    "    \n"
   ]
  },
  {
   "cell_type": "code",
   "execution_count": 2,
   "metadata": {},
   "outputs": [
    {
     "name": "stdout",
     "output_type": "stream",
     "text": [
      "arbol\n",
      "casa\n",
      "cocina\n"
     ]
    }
   ],
   "source": [
    "#EXERCISES 113\n",
    "\n",
    "centinela=0\n",
    "lista_unicos=[]\n",
    "lista_repetidos=[]\n",
    "\n",
    "while centinela !=\"\":\n",
    "    palabra_ingresada=input(\"Ingresa una palabra(Ingrese \"\" para salir):\")\n",
    "    \n",
    "   \n",
    "    if palabra_ingresada==\"\":\n",
    "        centinela = \"\"\n",
    "\n",
    "    else:\n",
    "        if palabra_ingresada in lista_unicos:\n",
    "            lista_repetidos.append(palabra_ingresada)   \n",
    "        else:\n",
    "            lista_unicos.append(palabra_ingresada)\n",
    "\n",
    "for i in lista_unicos:\n",
    "    print(i)\n"
   ]
  },
  {
   "cell_type": "code",
   "execution_count": 6,
   "metadata": {},
   "outputs": [
    {
     "name": "stdout",
     "output_type": "stream",
     "text": [
      "-10\n",
      "-1\n",
      "3\n",
      "6\n",
      "20\n"
     ]
    }
   ],
   "source": [
    "#EXERCISES 114\n",
    "\n",
    "centinela=0\n",
    "lista_consolidada=[]\n",
    "\n",
    "while centinela !=\"\":\n",
    "    entero_ingresado=input(\"Ingresa un numero entero(Ingrese \"\" para salir):\")\n",
    "    \n",
    "   \n",
    "    if entero_ingresado==\"\":\n",
    "        centinela = \"\"\n",
    "    else:\n",
    "        entero_ingresado=int(entero_ingresado)\n",
    "        lista_consolidada.append(entero_ingresado)\n",
    "        \n",
    "lista_consolidada.sort()\n",
    "for i in lista_consolidada:\n",
    "    print(i)"
   ]
  },
  {
   "cell_type": "code",
   "execution_count": 4,
   "metadata": {},
   "outputs": [
    {
     "name": "stdout",
     "output_type": "stream",
     "text": [
      "[1, 2, 3, 5, 6, 10, 15]\n"
     ]
    }
   ],
   "source": [
    "#EXERCISE 115\n",
    "lista_divisores=[]\n",
    "\n",
    "def Divisores_propios(numero_ingresado):\n",
    "    for divisor in range(1,numero_ingresado):\n",
    "        if numero_ingresado%divisor==0:\n",
    "            lista_divisores.append(divisor)\n",
    "    return lista_divisores\n",
    "    \n",
    "numero_ingresado=int(input(\"Ingrese un numero positivo: \"))\n",
    "\n",
    "divisores_prop=Divisores_propios(numero_ingresado)\n",
    "print(divisores_prop)\n"
   ]
  },
  {
   "cell_type": "code",
   "execution_count": 12,
   "metadata": {},
   "outputs": [
    {
     "ename": "TypeError",
     "evalue": "replace() argument 1 must be str, not list",
     "output_type": "error",
     "traceback": [
      "\u001b[1;31m---------------------------------------------------------------------------\u001b[0m",
      "\u001b[1;31mTypeError\u001b[0m                                 Traceback (most recent call last)",
      "Cell \u001b[1;32mIn[12], line 18\u001b[0m\n\u001b[0;32m     13\u001b[0m     \u001b[38;5;28;01mreturn\u001b[39;00m nueva_lista\n\u001b[0;32m     16\u001b[0m string_ingresado\u001b[38;5;241m=\u001b[39m\u001b[38;5;28minput\u001b[39m(\u001b[38;5;124m\"\u001b[39m\u001b[38;5;124mIngrese una oracion: \u001b[39m\u001b[38;5;124m\"\u001b[39m)\n\u001b[1;32m---> 18\u001b[0m nueva_oracion\u001b[38;5;241m=\u001b[39m\u001b[43mConvertidor_lista\u001b[49m\u001b[43m(\u001b[49m\u001b[43mstring_ingresado\u001b[49m\u001b[43m)\u001b[49m\n\u001b[0;32m     19\u001b[0m \u001b[38;5;28mprint\u001b[39m(nueva_oracion)\n",
      "Cell \u001b[1;32mIn[12], line 11\u001b[0m, in \u001b[0;36mConvertidor_lista\u001b[1;34m(string_ingresado)\u001b[0m\n\u001b[0;32m      9\u001b[0m \u001b[38;5;28;01mfor\u001b[39;00m caracter \u001b[38;5;129;01min\u001b[39;00m lista_strings:\n\u001b[0;32m     10\u001b[0m     \u001b[38;5;28;01mif\u001b[39;00m caracter[\u001b[38;5;241m-\u001b[39m\u001b[38;5;241m1\u001b[39m]\u001b[38;5;241m==\u001b[39m\u001b[38;5;124m\"\u001b[39m\u001b[38;5;124m.\u001b[39m\u001b[38;5;124m\"\u001b[39m \u001b[38;5;129;01mor\u001b[39;00m caracter[\u001b[38;5;241m-\u001b[39m\u001b[38;5;241m1\u001b[39m]\u001b[38;5;241m==\u001b[39m\u001b[38;5;124m\"\u001b[39m\u001b[38;5;124m,\u001b[39m\u001b[38;5;124m\"\u001b[39m \u001b[38;5;129;01mor\u001b[39;00m caracter[\u001b[38;5;241m-\u001b[39m\u001b[38;5;241m1\u001b[39m]\u001b[38;5;241m==\u001b[39m\u001b[38;5;124m\"\u001b[39m\u001b[38;5;124m¿\u001b[39m\u001b[38;5;124m\"\u001b[39m \u001b[38;5;129;01mor\u001b[39;00m caracter[\u001b[38;5;241m-\u001b[39m\u001b[38;5;241m1\u001b[39m]\u001b[38;5;241m==\u001b[39m\u001b[38;5;124m\"\u001b[39m\u001b[38;5;124m?\u001b[39m\u001b[38;5;124m\"\u001b[39m \u001b[38;5;129;01mor\u001b[39;00m caracter[\u001b[38;5;241m-\u001b[39m\u001b[38;5;241m1\u001b[39m]\u001b[38;5;241m==\u001b[39m\u001b[38;5;124m\"\u001b[39m\u001b[38;5;124m¡\u001b[39m\u001b[38;5;124m\"\u001b[39m \u001b[38;5;129;01mor\u001b[39;00m caracter[\u001b[38;5;241m-\u001b[39m\u001b[38;5;241m1\u001b[39m]\u001b[38;5;241m==\u001b[39m\u001b[38;5;124m\"\u001b[39m\u001b[38;5;124m!\u001b[39m\u001b[38;5;124m\"\u001b[39m \u001b[38;5;129;01mor\u001b[39;00m caracter[\u001b[38;5;241m-\u001b[39m\u001b[38;5;241m1\u001b[39m]\u001b[38;5;241m==\u001b[39m\u001b[38;5;124m\"\u001b[39m\u001b[38;5;124m-\u001b[39m\u001b[38;5;124m\"\u001b[39m \u001b[38;5;129;01mor\u001b[39;00m caracter[\u001b[38;5;241m-\u001b[39m\u001b[38;5;241m1\u001b[39m]\u001b[38;5;241m==\u001b[39m\u001b[38;5;124m\"\u001b[39m\u001b[38;5;124m;\u001b[39m\u001b[38;5;124m\"\u001b[39m \u001b[38;5;129;01mor\u001b[39;00m caracter[\u001b[38;5;241m-\u001b[39m\u001b[38;5;241m1\u001b[39m]\u001b[38;5;241m==\u001b[39m\u001b[38;5;124m\"\u001b[39m\u001b[38;5;124m:\u001b[39m\u001b[38;5;124m\"\u001b[39m \u001b[38;5;129;01mor\u001b[39;00m caracter[\u001b[38;5;241m-\u001b[39m\u001b[38;5;241m1\u001b[39m]\u001b[38;5;241m==\u001b[39m\u001b[38;5;124m\"\u001b[39m\u001b[38;5;124m’\u001b[39m\u001b[38;5;124m\"\u001b[39m:\n\u001b[1;32m---> 11\u001b[0m         caracter_modificado\u001b[38;5;241m=\u001b[39m\u001b[43mcaracter\u001b[49m\u001b[38;5;241;43m.\u001b[39;49m\u001b[43mreplace\u001b[49m\u001b[43m(\u001b[49m\u001b[43mcaracteres_eliminar\u001b[49m\u001b[43m,\u001b[49m\u001b[38;5;124;43m\"\u001b[39;49m\u001b[38;5;124;43m\"\u001b[39;49m\u001b[43m)\u001b[49m\n\u001b[0;32m     12\u001b[0m         nueva_lista\u001b[38;5;241m.\u001b[39mappend(caracter_modificado)\n\u001b[0;32m     13\u001b[0m \u001b[38;5;28;01mreturn\u001b[39;00m nueva_lista\n",
      "\u001b[1;31mTypeError\u001b[0m: replace() argument 1 must be str, not list"
     ]
    }
   ],
   "source": [
    "#EXERCISE 117\n",
    "\n",
    "\n",
    "nueva_lista=[]\n",
    "caracteres_eliminar=[\".\",\",\",\"¿\",\"?\",\"¡\",\"!\",\"-\",\";\",\":\",\"’\"]\n",
    "\n",
    "def Convertidor_lista(string_ingresado):\n",
    "    lista_strings=string_ingresado.split()\n",
    "    for caracter in lista_strings:\n",
    "        if caracter[-1]==\".\" or caracter[-1]==\",\" or caracter[-1]==\"¿\" or caracter[-1]==\"?\" or caracter[-1]==\"¡\" or caracter[-1]==\"!\" or caracter[-1]==\"-\" or caracter[-1]==\";\" or caracter[-1]==\":\" or caracter[-1]==\"’\":\n",
    "            caracter_modificado=caracter.replace(,\"\")\n",
    "            nueva_lista.append(caracter_modificado)\n",
    "    return nueva_lista\n",
    "\n",
    "\n",
    "string_ingresado=input(\"Ingrese una oracion: \")\n",
    "\n",
    "nueva_oracion=Convertidor_lista(string_ingresado)\n",
    "print(nueva_oracion)\n",
    "\n",
    "\n",
    "\n",
    "\n",
    "\n",
    "                                                                 "
   ]
  },
  {
   "cell_type": "code",
   "execution_count": null,
   "metadata": {},
   "outputs": [],
   "source": [
    "EJERCICIOS PARA EXAMEN"
   ]
  },
  {
   "cell_type": "code",
   "execution_count": 4,
   "metadata": {},
   "outputs": [
    {
     "name": "stdout",
     "output_type": "stream",
     "text": [
      "2\n",
      "5\n",
      "9\n"
     ]
    }
   ],
   "source": [
    "#EXERCISE 110\n",
    "\n",
    "#INPUT:ENTERO GUARDADO EN LISTA\n",
    "#CENTINELA=0\n",
    "#OUTPUT:TODOS LOS VALORES INGRESADOS EXCEPTO 0 (ORDEN ASD) EN CADA LINEA\n",
    "\n",
    "centinela=1\n",
    "lista_num=[]\n",
    "while centinela!=0:\n",
    "    numero_ingresado=int(input(\"Ingresar numero entero\"))\n",
    "\n",
    "    if numero_ingresado==0:\n",
    "        centinela=0\n",
    "    else:       \n",
    "        lista_num.append(numero_ingresado)\n",
    "        \n",
    "lista_ordenada=sorted(lista_num)\n",
    "for numero in lista_ordenada:\n",
    "    print(numero)\n"
   ]
  },
  {
   "cell_type": "code",
   "execution_count": 11,
   "metadata": {},
   "outputs": [
    {
     "name": "stdout",
     "output_type": "stream",
     "text": [
      "[20, 22, 23, 28, 30, 44]\n"
     ]
    }
   ],
   "source": [
    "#EXERCISE 121\n",
    "\n",
    "#Generar 6 numeros aleatorios entre 1 y 49\n",
    "#los numero no deben duplicarse\n",
    "#mostar los numeros en orden ascendente\n",
    "\n",
    "import random\n",
    "\n",
    "lista_numeros_loteria=[]\n",
    "\n",
    "    \n",
    "numero_aletorio=random.sample(range(1,50),6)\n",
    "lista_numeros_loteria.extend(numero_aletorio)\n",
    "lista_numeros_loteria.sort()\n",
    "\n",
    "print(lista_numeros_loteria)\n"
   ]
  },
  {
   "cell_type": "code",
   "execution_count": 15,
   "metadata": {},
   "outputs": [
    {
     "name": "stdout",
     "output_type": "stream",
     "text": [
      "3\n"
     ]
    }
   ],
   "source": [
    "#EXERCISE 128\n",
    "\n",
    "#  CREAR FUNCION COUNTRANGE\n",
    "#  DEVOLVER EL NUMERO DE ELEMENTOS QUE SON MAYORES A UN VALOR MINIMO\n",
    "#  DEVOLVE LOS MENORES A UN VALOR MAXIMO\n",
    "#  PARAMETROS:LISTA, VALOR MINIMO ,VALOR MAXIMO\n",
    "#  RETORNO SERA UN VALOR ENTERO>=0\n",
    "#  INCLUR PROGRAMA PRINCIPAL QUE DEMUESTE ESTA FUNCION PARA VARIAS LISTAS Y VALORES\n",
    "\n",
    "lista_rango=[]\n",
    "\n",
    "def countrange(minimo,maximo,lista):   \n",
    "    for numero in lista:\n",
    "        if minimo<=numero<maximo:\n",
    "            lista_rango.append(numero)\n",
    "    return len(lista_rango)\n",
    "        \n",
    "\n",
    "prueba_rango=countrange(4,12,[2,4,8,10,12,20])\n",
    "print(prueba_rango)"
   ]
  }
 ],
 "metadata": {
  "kernelspec": {
   "display_name": "Python 3",
   "language": "python",
   "name": "python3"
  },
  "language_info": {
   "codemirror_mode": {
    "name": "ipython",
    "version": 3
   },
   "file_extension": ".py",
   "mimetype": "text/x-python",
   "name": "python",
   "nbconvert_exporter": "python",
   "pygments_lexer": "ipython3",
   "version": "3.10.11"
  }
 },
 "nbformat": 4,
 "nbformat_minor": 2
}
