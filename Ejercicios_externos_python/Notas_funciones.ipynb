{
 "cells": [
  {
   "cell_type": "code",
   "execution_count": null,
   "metadata": {},
   "outputs": [],
   "source": [
    "#FUNCIONES"
   ]
  },
  {
   "cell_type": "code",
   "execution_count": null,
   "metadata": {},
   "outputs": [],
   "source": [
    "#1.DEFINICION DE FUNCIONES \n",
    "\n",
    "def nombre_de_funcion(parametros):\n",
    "    # Cuerpo de la función\n",
    "    # Código a ejecutar\n",
    "    return resultado\n",
    "\n",
    "# Definición de una función que suma dos números\n",
    "def suma(a, b):\n",
    "    resultado = a + b\n",
    "    return resultado"
   ]
  },
  {
   "cell_type": "code",
   "execution_count": null,
   "metadata": {},
   "outputs": [],
   "source": [
    "#2. LLAMADO A FUNCIONES\n",
    "\n",
    "nombre_de_funcion(argumentos)\n",
    "\n",
    "# Llamando a la función suma\n",
    "resultado_suma = suma(3, 4)\n",
    "print(resultado_suma)  # Salida\n"
   ]
  },
  {
   "cell_type": "code",
   "execution_count": null,
   "metadata": {},
   "outputs": [],
   "source": [
    "#3.PARAMETROS Y ARGUMENTOS\n",
    "\n",
    "# Definición de una función que saluda a una persona\n",
    "def saludar(nombre):\n",
    "    print(\"Hola\", nombre)\n",
    "\n",
    "# Llamando a la función saludar con un argumento\n",
    "saludar(\"Juan\")  # Salida: Hola Juan"
   ]
  },
  {
   "cell_type": "code",
   "execution_count": null,
   "metadata": {},
   "outputs": [],
   "source": [
    "#4. RETORNO DE VALORES\n",
    "\n",
    "# Definición de una función que devuelve el cuadrado de un número\n",
    "def cuadrado(numero):\n",
    "    return numero ** 2\n",
    "\n",
    "# Llamando a la función cuadrado y asignando el resultado a una variable\n",
    "resultado_cuadrado = cuadrado(5)\n",
    "print(resultado_cuadrado)  # Salida: 25"
   ]
  },
  {
   "cell_type": "code",
   "execution_count": null,
   "metadata": {},
   "outputs": [],
   "source": [
    "#5. ALCANCE DE VARIABLES\n",
    "\n",
    "#alcance (scope) de una variable en una función determina dónde puede ser utilizada \n",
    "#esa variable dentro del código\n",
    "\n",
    "#Tipos de Alcance\n",
    "\n",
    "#A.Alcance Local: solo pueden ser accedidas dentro de esa función.\n",
    "\n",
    "def mi_funcion():\n",
    "    x = 10  # Variable local\n",
    "    print(\"Dentro de la función:\", x)\n",
    "\n",
    "mi_funcion()\n",
    "# Intentar acceder a x fuera de la función generará un error\n",
    "# print(\"Fuera de la función:\", x)  # Genera un error\n",
    "\n",
    "#B.Alcance Global: Las variables definidas fuera de cualquier función tienen un alcance global, \n",
    "#lo que significa que pueden ser accedidas desde cualquier parte del código\n",
    "\n",
    "y = 20  # Variable global\n",
    "\n",
    "def otra_funcion():\n",
    "    print(\"Dentro de la función:\", y)\n",
    "\n",
    "otra_funcion()\n",
    "print(\"Fuera de la función:\", y)\n",
    "\n",
    "#B.Alcance de Encierre:Las funciones anidadas en Python pueden acceder a las variables definidas \n",
    "#en la función exterior en la que están definidas\n",
    "\n",
    "def exterior():\n",
    "    z = 30  # Variable en la función exterior\n",
    "\n",
    "    def interior():\n",
    "        print(\"Dentro de la función interior:\", z)\n",
    "\n",
    "    interior()\n",
    "\n",
    "exterior()\n",
    "# Intentar acceder a z fuera de la función exterior generará un error\n",
    "# print(\"Fuera de la función exterior:\", z)  # Genera un error\n"
   ]
  },
  {
   "cell_type": "code",
   "execution_count": null,
   "metadata": {},
   "outputs": [],
   "source": [
    "#6. FUNCIONES ANONIMAS LAMBDA\n",
    "\n",
    "#pueden tener cualquier número de argumentos, pero solo una expresión.\n",
    "#Son útiles cuando necesitas una función rápida y simple\n",
    "\n",
    "# Definición de una función lambda que devuelve el cuadrado de un número\n",
    "cuadrado = lambda x: x ** 2\n",
    "\n",
    "# Llamando a la función lambda\n",
    "print(cuadrado(5))  # Salida: 25\n"
   ]
  },
  {
   "cell_type": "code",
   "execution_count": null,
   "metadata": {},
   "outputs": [],
   "source": [
    "#7. RECURSIVIDAD\n",
    "\n",
    "def factorial(n):\n",
    "    if n == 0:\n",
    "        return 1\n",
    "    else:\n",
    "        return n * factorial(n - 1)\n",
    "\n",
    "print(factorial(5))  # Salida: 120\n"
   ]
  },
  {
   "cell_type": "code",
   "execution_count": null,
   "metadata": {},
   "outputs": [],
   "source": [
    "#8. PASO POR VALOR Y POR REFERENCIA\n",
    "\n",
    "#A. Paso por valor (para tipos inmutables)\n",
    "# los tipos de datos inmutables, como enteros, cadenas y tuplas, se pasan por valor.\n",
    "#Esto significa que una copia del valor se pasa a la función, y \n",
    "#cualquier modificación realizada dentro de la función no afectará al objeto original.\n",
    "\n",
    "def modificar_valor(numero):\n",
    "    numero += 10\n",
    "    print(\"Dentro de la función:\", numero)\n",
    "\n",
    "x = 5\n",
    "print(\"Antes de llamar a la función:\", x)\n",
    "modificar_valor(x)\n",
    "print(\"Después de llamar a la función:\", x)\n",
    "\n",
    "#Salida\n",
    "\n",
    "#Antes de llamar a la función: 5\n",
    "#Dentro de la función: 15\n",
    "#Después de llamar a la función: 5\n",
    "\n",
    "#B. Paso por referencia (para tipos mutables)\n",
    "#los tipos de datos mutables, como listas y diccionarios, se pasan por referencia.\n",
    "#Esto significa que se pasa una referencia al objeto original a la función, y \n",
    "#cualquier modificación realizada dentro de la función afectará al objeto original.\n",
    "\n",
    "def modificar_lista(lista):\n",
    "    lista.append(4)\n",
    "    print(\"Dentro de la función:\", lista)\n",
    "\n",
    "mi_lista = [1, 2, 3]\n",
    "print(\"Antes de llamar a la función:\", mi_lista)\n",
    "modificar_lista(mi_lista)\n",
    "print(\"Después de llamar a la función:\", mi_lista)\n",
    "\n",
    "#Salida\n",
    "\n",
    "#Antes de llamar a la función: [1, 2, 3]\n",
    "#Dentro de la función: [1, 2, 3, 4]\n",
    "#Después de llamar a la función: [1, 2, 3, 4]\n"
   ]
  }
 ],
 "metadata": {
  "language_info": {
   "name": "python"
  }
 },
 "nbformat": 4,
 "nbformat_minor": 2
}
