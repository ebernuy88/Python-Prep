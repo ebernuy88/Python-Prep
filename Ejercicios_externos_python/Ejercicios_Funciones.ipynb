{
 "cells": [
  {
   "cell_type": "code",
   "execution_count": null,
   "metadata": {},
   "outputs": [],
   "source": [
    "#EXERCISE 86\n",
    "\n",
    "distancia=int(input(\"Ingrese la distancia recorrida en kilometros :\"))\n",
    "\n",
    "def tarifa_taxi(distancia):\n",
    "  tarifa_total= 4 +0.25*(distancia/140)\n",
    "  return tarifa_total\n",
    "0\n",
    "total=tarifa_taxi(distancia)\n",
    "total=round(total,2)\n",
    "print(f\"La tarifa total por la distancia recorrida es {total} dolares\")"
   ]
  },
  {
   "cell_type": "code",
   "execution_count": 72,
   "metadata": {},
   "outputs": [
    {
     "name": "stdout",
     "output_type": "stream",
     "text": [
      "El costo total de envio de 4 productos es 19.8 dolares\n"
     ]
    }
   ],
   "source": [
    "#EXERCISE 87\n",
    "\n",
    "# PE 10.95\n",
    "# SE 2.95\n",
    "\n",
    "def costo_envio(cantidad_pedido):\n",
    "  costo_total=10.95+(cantidad_pedido-1)*2.95\n",
    "  return costo_total\n",
    "\n",
    "pedido=int(input(\"Ingrese la cantidad de productos que comprara: \"))\n",
    "\n",
    "total=costo_envio(pedido)\n",
    "total=round(total,2)\n",
    "print(f\"El costo total de envio de {pedido} productos es {total} dolares\")"
   ]
  },
  {
   "cell_type": "code",
   "execution_count": null,
   "metadata": {},
   "outputs": [],
   "source": [
    "#EJERCICIO 100\n",
    "\n",
    "#1.ESCRIBIR UNA FUNCION QUE GENERE UN CONTRASEÑA ALEATORIA\n",
    "#2.LA CONTRASEÑA DEBE TENER UNA LONGITUD ENTRE 7 Y 10 CARACTERES\n",
    "#3.CADA CARACTER DEBE SER SELECCIONADO ALEATORIAMENTE DE LAS POSICIONES DEL 33 AL 126 \n",
    "# DE LA TABLA ASCII\n",
    "#4.LA FUNCION NO TOMARA NINGUN PARAMETRO Y RETORNARA LA CONTRASEÑA ALEATORIA COMO RESULTADO\n",
    "#5.MUESTRE LA CONTRASEÑA ALEATORIA EN EL PROGRAMA PRINCIPAL DE TU ARCHIVO\n",
    "\n",
    "import random\n",
    "import string\n",
    "\n",
    "\n",
    "def Generar_contraseña():    \n",
    "    contraseña=\"\"\n",
    "    lista=[]\n",
    "    x=0\n",
    "    while x<10:\n",
    "        codigo_ascii=random.randint(33,127)\n",
    "        caracter=chr(codigo_ascii)\n",
    "        contraseña+=caracter\n",
    "        x+=1\n",
    "    lista.append(contraseña[0:7]) \n",
    "    lista.append(contraseña[0:8])\n",
    "    lista.append(contraseña[0:9])\n",
    "    lista.append(contraseña[0:10]) \n",
    "    return  random.choice(lista) \n",
    "       \n",
    "prueba_3=Generar_contraseña()\n",
    "print(prueba_3)"
   ]
  },
  {
   "cell_type": "code",
   "execution_count": 40,
   "metadata": {},
   "outputs": [
    {
     "name": "stdout",
     "output_type": "stream",
     "text": [
      "7947QQZ\n"
     ]
    }
   ],
   "source": [
    "#Ejercicios 101 \n",
    "\n",
    "# placas +antiguas: 3 letras y 3 digitos\n",
    "# placas nuevas 4 digitos y 3 letras\n",
    "# hallar funcion que genere un numero de placa al azar ya sea placas nuevas y antiguas \n",
    "\n",
    "\n",
    "#xxxyyy cada letra puede tomar 27 valores y cada digito puede tomar 10 valores \n",
    "#yyyyxxx \n",
    "\n",
    "#6<=len(numero_placa)>=7\n",
    "\n",
    "\n",
    "\n",
    "import random\n",
    "import string\n",
    "\n",
    "\n",
    "\n",
    "def Generador_placa():\n",
    "    numero_placa=\"\"\n",
    "    x=0\n",
    "    while x<4: \n",
    "        numero_placa+=str(random.randint(0,9)) \n",
    "        x+=1\n",
    "    \n",
    "    x=0\n",
    "    while x<3:\n",
    "        numero_placa+=random.choice(string.ascii_uppercase)\n",
    "        x+=1\n",
    "    return numero_placa\n",
    "    \n",
    "\n",
    "\n",
    "prueba1=Generador_placa()\n",
    "print(prueba1)\n"
   ]
  },
  {
   "cell_type": "code",
   "execution_count": 5,
   "metadata": {},
   "outputs": [
    {
     "name": "stdout",
     "output_type": "stream",
     "text": [
      "False\n"
     ]
    }
   ],
   "source": [
    "#EJERCICIO 102\n",
    "\n",
    "#1.CREAR UNA FUNCION QUE DETERMINE SI UNA CONTRASEÑA ES BUENA O MALA \n",
    "#2.UNA CONTRASEÑA BUENA TENER AL MENOS 8 CARACTERES DE LARGO Y CONTENER AL MENOS UNA LETRA\n",
    "#MAYUSCULA,AL MENOS UNA LETRA MINUSCULA Y AL MENOS UN NUMERO \n",
    "#3.LA FUNCION DEBER RETORNAR TRUE SI LA CONTRASEÑA PASADA COMO PARAMETRO ES BUENA, DE OTRA \n",
    "#MANER RETORNARA FALSE\n",
    "#4.INCLUIR UN PROGRAMA PRINCIPAL QUE LEA UNA CONTRASEÑA DESDE EL USUARIO E INDIQUE SI ES BUENA O NO \n",
    "\n",
    "validacion=input(\"Ingrese contraseña: \")\n",
    "\n",
    "\n",
    "\n",
    "def Validacion_contraseña(contraseña):\n",
    "    numero_mayuscula=0\n",
    "    numero_minuscula=0\n",
    "    numero_digitos=0\n",
    "    if len(contraseña)>=8:\n",
    "        for caracter in contraseña:\n",
    "            if caracter.isupper()==True:\n",
    "                numero_mayuscula+=1\n",
    "            elif caracter.islower()==True:\n",
    "                numero_minuscula+=1\n",
    "            elif caracter.isdigit()==True:\n",
    "                numero_digitos+=1\n",
    "    else: \n",
    "        return False\n",
    "    \n",
    "    if numero_mayuscula>=1 and numero_minuscula>=1 and numero_digitos>=1:\n",
    "        return True\n",
    "    else:\n",
    "        return False\n",
    "    \n",
    "valid_contraseña=Validacion_contraseña(validacion)\n",
    "print(valid_contraseña)\n"
   ]
  },
  {
   "cell_type": "code",
   "execution_count": null,
   "metadata": {},
   "outputs": [],
   "source": [
    "#EXERCISE 91\n",
    "\n",
    "#años  en fecha ordinal en cg puede ser cualquiera\n",
    "#el fecha ordinal toma valores de 1 a 365 , si es bisiesto 366\n",
    "#crea una funcion que tome dia ,mes y año  y que devuelva el dia durante el año\n",
    "\n",
    "# 10 /10/ 2023\n",
    "\n",
    "#fecha ordinal  dia + numero de dias hasta setiembre +1(si es bisiesto)\n",
    "\n",
    "acumulado_enero= 31\n",
    "acumulado_febrero=59\n",
    "acumlado_marzo=90\n",
    "acumulado_abril=\n",
    "Enero: 31 días\n",
    "Febrero: 28 días en un año común y 29 días en un año bisiesto.\n",
    "Marzo: 31 días\n",
    "Abril: 30 días\n",
    "Mayo: 31 días\n",
    "Junio: 30 días\n",
    "Julio: 31 días\n",
    "Agosto: 31 días\n",
    "Septiembre: 30 días\n",
    "Octubre: 31 días\n",
    "Noviembre: 30 días\n",
    "Diciembre: 31 días"
   ]
  },
  {
   "cell_type": "code",
   "execution_count": 78,
   "metadata": {},
   "outputs": [
    {
     "name": "stdout",
     "output_type": "stream",
     "text": [
      "Holasoyelvis\n",
      "Holasoyelvis\n"
     ]
    }
   ],
   "source": [
    "#EXERCISE 93\n",
    "\n",
    "#1.FUNCION TOMA UN STRING S COMO SU PRIMER PARAMETRO Y EL ANCHO DE LA VENTANA EN CARACTERES W \n",
    "#COMO SEGUNDO PARAMETRO\n",
    "#2. LA FUNCION RETORNARA UN NUEVO STRING QUE INCLUYE LOS ESPACIOS PRINCIPALES NECESARIOS\n",
    "#PARA QUE S SEA CENTRADO EN LA VENTANA CUANDO EL NUEVO STRING SEA IMPRESO\n",
    "#3.EL NUEVO STRING DEBE CONSTRUIRSE DE LA SIGUIENTE MANERA:\n",
    "    #A.SI LA LONGITUD DE S >= QUE EL ANCHO DE LA VENTANA, SE RETORNARA S\n",
    "    #B.SI LA LONGITUD DE S < QUE EL ANCHO DE LA VENTANA,SE RETORNARA UN STRING \n",
    "    #QUE CONTIENE (LEN(S)-W)//2 ESPACIOS SEGUIDOS POR S \n",
    "#4. ESCRIBE UN PROGRAMA PRINCIPAL QUE DEMUESTRE LA FUNCION , MOSTRANDO VARIOS STRINGS\n",
    "#CENTRADOS EN LA VENTANA\n",
    "\n",
    "def cent_terminal(cadena,ancho):\n",
    "    espacios=\"\"\n",
    "    if len(cadena)>=ancho:\n",
    "        return cadena\n",
    "    else:\n",
    "        numeros_espacios=(len(cadena)-ancho)//2\n",
    "        for i in range(numeros_espacios):\n",
    "            espacios+=\" \"\n",
    "        nuevo_string=espacios + cadena\n",
    "        return nuevo_string\n",
    "\n",
    "prueba_c1=cent_terminal(\"Holasoyelvis\",4)\n",
    "print(prueba_c1)\n",
    "\n",
    "prueba_c1=cent_terminal(\"Holasoyelvis\",20)\n",
    "print(prueba_c1)\n"
   ]
  },
  {
   "cell_type": "code",
   "execution_count": 90,
   "metadata": {},
   "outputs": [
    {
     "name": "stdout",
     "output_type": "stream",
     "text": [
      "3 tazas,37 cucharaditas\n",
      "None\n"
     ]
    }
   ],
   "source": [
    "#EXERCISES 108\n",
    "\n",
    "#1.ESCRIBIR UNA FUNCION QUE USE LAS UNIDADES MAS GRANDE POSIBLES\n",
    "#2.PRIMER PARAMETRO=NUMERO DE UNIDADES / SEGUNDO PARAMETRO=UNIDAD DE MEDIDA\n",
    "#(CUCHARITA,CUCHARA,TAZA)\n",
    "#3.VALOR RETORNO= STRING QUE REPRESENTE MEDIDA USANDO LAS UNIDADES MAS GRANDES POSIBLES\n",
    "#4. 1 CUP=16 CUCHARAS, 1 CUCHARA =3 CUCHARITAS\n",
    "\n",
    "\n",
    "def convertidor_medidas(numero_unidades,unidad):\n",
    "    if unidad==\"taza\":\n",
    "        equivalencia=numero_unidades\n",
    "        print(f\"{equivalencia} tazas\")\n",
    "    elif unidad==\"cuchara\":\n",
    "        if numero_unidades>16:\n",
    "            if numero_unidades%16==0:\n",
    "                equivalencia=numero_unidades/16\n",
    "                print(f\"{equivalencia} tazas\")\n",
    "            else:\n",
    "                equivalencia_t=numero_unidades//16\n",
    "                equivalencia_c=numero_unidades-16*equivalencia_t\n",
    "                print(f\"{equivalencia_t} tazas,{equivalencia_c} cucharas\")\n",
    "        else:\n",
    "            equivalencia=numero_unidades\n",
    "            print(f\"{equivalencia} cucharas\")\n",
    "    else:\n",
    "        if numero_unidades>3:\n",
    "            if numero_unidades>48:\n",
    "                if numero_unidades%48==0:\n",
    "                    equivalencia=numero_unidades/48\n",
    "                    print(f\"{equivalencia} tazas\")\n",
    "                else:\n",
    "                    if numero_unidades-48*(numero_unidades//48)%3==0:\n",
    "                        equivalencia_t=numero_unidades//48\n",
    "                        equivalencia_c=(numero_unidades-48*equivalencia_t)/3\n",
    "                        print(f\"{equivalencia_t} tazas,{equivalencia_c} cucharas\")\n",
    "                    else:\n",
    "                        equivalencia_t=numero_unidades//48\n",
    "                        equivalencia_ch=numero_unidades-48*equivalencia_t\n",
    "                        print(f\"{equivalencia_t} tazas,{equivalencia_ch} cucharaditas\")\n",
    "            else:\n",
    "                equivalencia_c=numero_unidades//3\n",
    "                equivalencia_ch=numero_unidades-3*equivalencia_c\n",
    "                print(f\"{equivalencia_c} cucharas,{equivalencia_ch} cucharaditas\")\n",
    "        else:\n",
    "            equivalencia=numero_unidades\n",
    "            print(f\"{equivalencia} cucharitas\")\n",
    "\n",
    "cambiar_medida=convertidor_medidas(181,\"cucharitas\")\n",
    "print(cambiar_medida)"
   ]
  },
  {
   "cell_type": "code",
   "execution_count": null,
   "metadata": {},
   "outputs": [],
   "source": [
    "EJERCICIOS PARA EXAMEN "
   ]
  },
  {
   "cell_type": "code",
   "execution_count": 13,
   "metadata": {},
   "outputs": [
    {
     "name": "stdout",
     "output_type": "stream",
     "text": [
      "numero ingresado es 4.0\n",
      "numero ingresado es 8.0\n",
      "numero ingresado es 9.0\n",
      "La mediana de los 3 numeros ingresados es 8.0\n"
     ]
    }
   ],
   "source": [
    "#EXERCISE 88 \n",
    "# PARAMETROS: 3 NUMEROS\n",
    "# RETORNO: MEDIANA 3 NUM\n",
    "# ESCRIBA FUNCION QUE USE PARAM Y TENGA EL RET\n",
    "# INCLUIR MAIN PROGRAM QUE TENGA IMPUT 3 VALORES DE USUARIO Y MUESTRE LA MEDIANA\n",
    "\n",
    "\n",
    "\n",
    "\n",
    "def mediana_numeros(lista):\n",
    "    sorted(lista)\n",
    "    if lista[1]>lista[0] and lista[1]<lista[2]:\n",
    "        return lista[1]\n",
    "    \n",
    "lista_vacia=[]\n",
    "x=3\n",
    "while x>0:\n",
    "    ingreso_numeros=float(input(\"Ingresa 3 numeros\"))\n",
    "    print(f\"numero ingresado es {ingreso_numeros}\")\n",
    "    lista_vacia.append(ingreso_numeros)\n",
    "    x-=1\n",
    "    \n",
    "mediana=mediana_numeros(lista_vacia)\n",
    "print(f\"La mediana de los 3 numeros ingresados es {mediana}\")"
   ]
  },
  {
   "cell_type": "code",
   "execution_count": null,
   "metadata": {},
   "outputs": [],
   "source": [
    "#EXERCISE 88 \n",
    "\n",
    "# PARAMETRO:UN STRING\n",
    "# RETURN : COPIA STRING CAPITALIZADO\n",
    "# CASOS DE CAPITALIZACION\n",
    "# a. el primer caracter \n",
    "# b. el primer caracter despues de punto ,exclamacion,interrogacion \n",
    "#\n",
    "#"
   ]
  },
  {
   "cell_type": "code",
   "execution_count": 27,
   "metadata": {},
   "outputs": [
    {
     "name": "stdout",
     "output_type": "stream",
     "text": [
      "None\n"
     ]
    }
   ],
   "source": [
    "#EXERCISE 96\n",
    "# Crear funcion isIntenger \n",
    "# verifique que los caracteres de un string tenga un valor entero\n",
    "# ignorar cualquier espacio en blanco o inicial \n",
    "# situaciones:\n",
    "# -tamaño>=1 y contiene digitos\n",
    "# - si su primer caracter es un mas o menos\n",
    "# -el primer caracter es seguido por uno o mas caracteres (todos son digitos)\n",
    "\n",
    "#escribir programa principal que lea string \n",
    "\n",
    "def isInteger(cadena):\n",
    "    cadena_sinespacios=cadena.strip()\n",
    "    if cadena_sinespacios[0]==\"+\" or cadena_sinespacios[0]==\"-\":\n",
    "        for caracter in cadena_sinespacios[1:]:\n",
    "            if caracter.isdigit():\n",
    "                pass\n",
    "            else:\n",
    "                break\n",
    "        return \"La cadena es un entero\"           \n",
    "        \n",
    "cadena_ingresada=input(\"Ingrese una cadena\")\n",
    "\n",
    "validar_entero=isInteger(cadena_ingresada)\n",
    "print(validar_entero)\n",
    "    "
   ]
  },
  {
   "cell_type": "code",
   "execution_count": 47,
   "metadata": {},
   "outputs": [
    {
     "name": "stdout",
     "output_type": "stream",
     "text": [
      "5 es primo\n"
     ]
    }
   ],
   "source": [
    "# EXERCISE 98\n",
    "#NUMERO PRIMO >1  DIVISIBLE SOLO POR EL MISMO Y 1\n",
    "#PARAMETRO : DETERMINAR SI EL NUMERO ES PRIMO\n",
    "#RETORNO: TRUE SI ES PRIMO O FALSE SI NO LO ES\n",
    "#ESCRIBE UN PROGRAMA PRINCIAL QUE RECIBA UN IMPUT ENTERO DEL USUARIO Y MUESTRA UN MENSAJE INDICANDO\n",
    "#SI ES PRIMO O NO \n",
    "\n",
    "def verificar_primo(numero):\n",
    "    primo=True\n",
    "    for i in range(2,numero):\n",
    "        if numero%i==0:\n",
    "            primo=False\n",
    "            break\n",
    "    return primo\n",
    "\n",
    "def main():\n",
    "    numero_ingresado=int(input(\"Ingrese un numero entero\"))\n",
    "    if numero_ingresado>1:\n",
    "        if verificar_primo(numero_ingresado):\n",
    "            print(f\"{numero_ingresado} es primo\")\n",
    "        else:\n",
    "            print(f\"{numero_ingresado} no es primo\")\n",
    "    else:\n",
    "        print(\"Ingrese un numero mayor 1\")\n",
    "\n",
    "if __name__==\"__main__\":\n",
    "    main()"
   ]
  },
  {
   "cell_type": "code",
   "execution_count": 50,
   "metadata": {},
   "outputs": [],
   "source": [
    "#EXERCISE 107\n",
    "#PARAMETROS :1 NUMERADO Y UN DENOMINADOR (ENTEROS POSITIVOS)\n",
    "#REDUCIR LA FRACCION A SU TERMINO MAS BAJO\n",
    "#RETORNAR:NUMERADOR Y DENOMINADOR REDUCIDDO\n",
    "#INCLUIR UN PROGRMA PRINCIPAL PARA IMPUT DE NUMERO Y MUESTE FRACCION REDUCIDA\n",
    "\n",
    "lista_divisoresnum=[]\n",
    "lista_divisoresden=[]\n",
    "\n",
    "def reduccion_terminomasbajo(numerador,denominador):\n",
    "    menor=min(numerador,denominador)\n",
    "    while menor>0:\n",
    "        if  numerador%menor==0 and denominador%menor==0:\n",
    "            menor\n",
    "            break\n",
    "        menor-=1\n",
    "    return (f\"la fraccion reducida es {numerador/menor} y {denominador/menor}\")\n",
    "\n",
    "def main():\n",
    "    numer=int(input(\"Ingrese un numero entero\"))\n",
    "    denom=int(input(\"Ingrese un numero entero\"))\n",
    "    \n",
    "    if denom!=0:\n",
    "        if reduccion_terminomasbajo(numer,denom):\n",
    "            print(\"el termino mas bajo es \")\n",
    "    else:\n",
    "        print(\"Ingrese un denominador diferente de 0\")\n",
    "\n",
    "main()"
   ]
  }
 ],
 "metadata": {
  "kernelspec": {
   "display_name": "Python 3",
   "language": "python",
   "name": "python3"
  },
  "language_info": {
   "codemirror_mode": {
    "name": "ipython",
    "version": 3
   },
   "file_extension": ".py",
   "mimetype": "text/x-python",
   "name": "python",
   "nbconvert_exporter": "python",
   "pygments_lexer": "ipython3",
   "version": "3.10.undefined"
  }
 },
 "nbformat": 4,
 "nbformat_minor": 2
}
