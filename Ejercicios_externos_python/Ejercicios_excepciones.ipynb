{
 "cells": [
  {
   "cell_type": "code",
   "execution_count": 14,
   "metadata": {},
   "outputs": [
    {
     "name": "stdout",
     "output_type": "stream",
     "text": [
      "Error: Las entradas no son numéricas. Por favor, ingrese números válidos.\n"
     ]
    }
   ],
   "source": [
    "#EJERCICIO 1\n",
    "# usuario ingresara 2 numeros\n",
    "# se generara un error TypeError si los imputs no son numericos\n",
    "\n",
    "def suma_numeros():\n",
    "    try:\n",
    "        # Solicita al usuario que ingrese dos números\n",
    "        num1 = float(input(\"Ingrese el primer número: \"))  # Convierte la entrada a tipo float\n",
    "        num2 = float(input(\"Ingrese el segundo número: \"))  # Convierte la entrada a tipo float\n",
    "        \n",
    "        # Calcula la suma de los dos números\n",
    "        resultado = num1 + num2\n",
    "        \n",
    "        # Imprime el resultado\n",
    "        print(\"La suma de\", num1, \"y\", num2, \"es:\", resultado)\n",
    "    except ValueError:\n",
    "        # Captura la excepción si la entrada no es numérica\n",
    "        print(\"Error: Las entradas no son numéricas. Por favor, ingrese números válidos.\")\n",
    "\n",
    "# Llama a la función para ejecutar el programa\n",
    "suma_numeros()\n",
    "\n"
   ]
  },
  {
   "cell_type": "code",
   "execution_count": 1,
   "metadata": {},
   "outputs": [
    {
     "ename": "ValueError",
     "evalue": "could not convert string to float: ''",
     "output_type": "error",
     "traceback": [
      "\u001b[1;31m---------------------------------------------------------------------------\u001b[0m",
      "\u001b[1;31mValueError\u001b[0m                                Traceback (most recent call last)",
      "Cell \u001b[1;32mIn[1], line 14\u001b[0m\n\u001b[0;32m     11\u001b[0m         \u001b[38;5;28mprint\u001b[39m (\u001b[38;5;124m\"\u001b[39m\u001b[38;5;124mEl usuario interrumpio el ingreso del dato\u001b[39m\u001b[38;5;124m\"\u001b[39m)\n\u001b[0;32m     13\u001b[0m valornum\u001b[38;5;241m=\u001b[39m\u001b[38;5;28minput\u001b[39m(\u001b[38;5;124m\"\u001b[39m\u001b[38;5;124mIngrese un numero\u001b[39m\u001b[38;5;124m\"\u001b[39m)\n\u001b[1;32m---> 14\u001b[0m \u001b[43msolicita_numero\u001b[49m\u001b[43m(\u001b[49m\u001b[43mvalornum\u001b[49m\u001b[43m)\u001b[49m\n",
      "Cell \u001b[1;32mIn[1], line 8\u001b[0m, in \u001b[0;36msolicita_numero\u001b[1;34m(numero)\u001b[0m\n\u001b[0;32m      6\u001b[0m \u001b[38;5;28;01mdef\u001b[39;00m \u001b[38;5;21msolicita_numero\u001b[39m(numero):\n\u001b[0;32m      7\u001b[0m     \u001b[38;5;28;01mtry\u001b[39;00m:\n\u001b[1;32m----> 8\u001b[0m         num\u001b[38;5;241m=\u001b[39m\u001b[38;5;28;43mfloat\u001b[39;49m\u001b[43m(\u001b[49m\u001b[43mnumero\u001b[49m\u001b[43m)\u001b[49m\n\u001b[0;32m      9\u001b[0m         \u001b[38;5;28;01mreturn\u001b[39;00m num\n\u001b[0;32m     10\u001b[0m     \u001b[38;5;28;01mexcept\u001b[39;00m \u001b[38;5;167;01mKeyboardInterrupt\u001b[39;00m:\n",
      "\u001b[1;31mValueError\u001b[0m: could not convert string to float: ''"
     ]
    }
   ],
   "source": [
    "#EJERCICIO 2\n",
    "\n",
    "#Escribe un programa que solicite un input numerico al usuario\n",
    "#maneje un error si el usuario cancela el input\n",
    "\n",
    "def solicita_numero(numero):\n",
    "    try:\n",
    "        num=float(numero)\n",
    "        return num\n",
    "    except KeyboardInterrupt:\n",
    "        print (\"El usuario interrumpio el ingreso del dato\")\n",
    "    \n",
    "valornum=input(\"Ingrese un numero\")\n",
    "solicita_numero(valornum)\n"
   ]
  }
 ],
 "metadata": {
  "kernelspec": {
   "display_name": "Python 3",
   "language": "python",
   "name": "python3"
  },
  "language_info": {
   "codemirror_mode": {
    "name": "ipython",
    "version": 3
   },
   "file_extension": ".py",
   "mimetype": "text/x-python",
   "name": "python",
   "nbconvert_exporter": "python",
   "pygments_lexer": "ipython3",
   "version": "3.10.11"
  }
 },
 "nbformat": 4,
 "nbformat_minor": 2
}
