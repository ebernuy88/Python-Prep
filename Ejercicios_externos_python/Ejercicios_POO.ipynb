{
 "cells": [
  {
   "cell_type": "code",
   "execution_count": 10,
   "metadata": {},
   "outputs": [
    {
     "name": "stdout",
     "output_type": "stream",
     "text": [
      "Titulo:  La iliada\n",
      "Autor:  Shakespeare\n",
      "Año:  100\n"
     ]
    }
   ],
   "source": [
    "#EJERCICIO 1\n",
    "\n",
    "#Crea una clase llamada Libro que tenga atributos como título, \n",
    "#autor y año de publicación. Luego, agrega métodos para cambiar \n",
    "#el autor y mostrar la información del libro.\n",
    "\n",
    "class Libro:\n",
    "    def __init__(self,titulo,autor,año):\n",
    "        self.titulo = titulo\n",
    "        self.autor = autor\n",
    "        self.año=año\n",
    "    def cambiar_autor(self,nuevo_tutor):\n",
    "        self.autor=nuevo_tutor   \n",
    "    def mostrar_datos(self):\n",
    "        print(\"Titulo: \",self.titulo)\n",
    "        print(\"Autor: \",self.autor)\n",
    "        print(\"Año: \",self.año)\n",
    "\n",
    "Libro1=Libro(\"La iliada\",\"Homero\",100)\n",
    "\n",
    "Libro1.cambiar_autor(\"Shakespeare\") \n",
    "Libro1.mostrar_datos()"
   ]
  },
  {
   "cell_type": "code",
   "execution_count": 14,
   "metadata": {},
   "outputs": [
    {
     "name": "stdout",
     "output_type": "stream",
     "text": [
      "Marca: Toyota\n",
      "Modelo: Corolla\n",
      "Color: Rojo\n",
      "Estado: apagado\n",
      "El coche ha sido encendido.\n",
      "Marca: Toyota\n",
      "Modelo: Corolla\n",
      "Color: Rojo\n",
      "Estado: encendido\n",
      "El coche ha sido apagado.\n",
      "Marca: Toyota\n",
      "Modelo: Corolla\n",
      "Color: Rojo\n",
      "Estado: apagado\n"
     ]
    }
   ],
   "source": [
    "#EJERCICIO 2\n",
    "\n",
    "#Crea una clase llamada Coche que tenga atributos como marca, modelo y color.\n",
    "#Luego, agrega métodos para encender el coche, apagarlo y mostrar información sobre él\n",
    "\n",
    "class Coche:\n",
    "    def __init__(self, marca, modelo, color):\n",
    "        # Constructor de la clase Coche.\n",
    "        # Se inicializan los atributos del coche.\n",
    "        self.marca = marca\n",
    "        self.modelo = modelo\n",
    "        self.color = color\n",
    "        self.encendido = False  # Se asume que el coche está apagado al inicio.\n",
    "\n",
    "    def encender(self):\n",
    "        # Método para encender el coche.\n",
    "        if not self.encendido:\n",
    "            # Si el coche no está encendido, se enciende y se imprime un mensaje.\n",
    "            self.encendido = True\n",
    "            print(\"El coche ha sido encendido.\")\n",
    "        else:\n",
    "            # Si el coche ya está encendido, se imprime un mensaje indicándolo.\n",
    "            print(\"El coche ya está encendido.\")\n",
    "\n",
    "    def apagar(self):\n",
    "        # Método para apagar el coche.\n",
    "        if self.encendido:\n",
    "            # Si el coche está encendido, se apaga y se imprime un mensaje.\n",
    "            self.encendido = False\n",
    "            print(\"El coche ha sido apagado.\")\n",
    "        else:\n",
    "            # Si el coche ya está apagado, se imprime un mensaje indicándolo.\n",
    "            print(\"El coche ya está apagado.\")\n",
    "\n",
    "    def mostrar_informacion(self):\n",
    "        # Método para mostrar la información del coche.\n",
    "        print(\"Marca:\", self.marca)\n",
    "        print(\"Modelo:\", self.modelo)\n",
    "        print(\"Color:\", self.color)\n",
    "        # Se determina el estado del coche (encendido o apagado) y se imprime.\n",
    "        estado = \"encendido\" if self.encendido else \"apagado\"\n",
    "        print(\"Estado:\", estado)\n",
    "\n",
    "# Ejemplo de uso:\n",
    "# Se crea una instancia de la clase Coche con algunos valores.\n",
    "mi_coche = Coche(\"Toyota\", \"Corolla\", \"Rojo\")\n",
    "\n",
    "# Se llama al método para mostrar la información del coche.\n",
    "mi_coche.mostrar_informacion()\n",
    "\n",
    "# Se llama al método para encender el coche.\n",
    "mi_coche.encender()\n",
    "\n",
    "# Se llama al método para mostrar la información del coche nuevamente.\n",
    "mi_coche.mostrar_informacion()\n",
    "\n",
    "# Se llama al método para apagar el coche.\n",
    "mi_coche.apagar()\n",
    "\n",
    "# Se llama al método para mostrar la información del coche una vez más.\n",
    "mi_coche.mostrar_informacion()           "
   ]
  },
  {
   "cell_type": "code",
   "execution_count": 6,
   "metadata": {},
   "outputs": [],
   "source": [
    "#EJERCICIO 3\n",
    "#Crea una aplicación de tienda online en la que puedas gestionar productos y clientes.\n",
    "#Debes tener clases para representar productos y clientes. Los productos deben tener \n",
    "#atributos como nombre, precio y cantidad en stock. Los clientes deben tener atributos\n",
    "#como nombre, dirección y saldo disponible. Debes implementar métodos para realizar compras,\n",
    "#agregar nuevos productos, actualizar el stock y mostrar información de los productos y clientes.\n",
    "\n",
    "# Definición de la clase Producto\n",
    "class Producto:\n",
    "    # Método inicializador (__init__) que recibe el nombre, precio y stock del producto\n",
    "    def __init__(self, nombre, precio, stock):\n",
    "        self.nombre = nombre  # Asigna el nombre del producto al atributo nombre\n",
    "        self.precio = precio  # Asigna el precio del producto al atributo precio\n",
    "        self.stock = stock    # Asigna el stock del producto al atributo stock\n",
    "\n",
    "    # Método para actualizar el stock del producto\n",
    "    def actualizar_stock(self, cantidad):\n",
    "        self.stock += cantidad  # Incrementa o decrementa el stock según la cantidad proporcionada\n",
    "\n",
    "    # Método para mostrar la información del producto\n",
    "    def mostrar_informacion(self):\n",
    "        # Imprime el nombre, precio y stock del producto\n",
    "        print(f\"Nombre: {self.nombre}, Precio: ${self.precio}, Stock: {self.stock}\")\n",
    "\n",
    "\n",
    "# Definición de la clase Cliente\n",
    "class Cliente:\n",
    "    # Método inicializador (__init__) que recibe el nombre, dirección y saldo del cliente\n",
    "    def __init__(self, nombre, direccion, saldo):\n",
    "        self.nombre = nombre        # Asigna el nombre del cliente al atributo nombre\n",
    "        self.direccion = direccion  # Asigna la dirección del cliente al atributo dirección\n",
    "        self.saldo = saldo          # Asigna el saldo del cliente al atributo saldo\n",
    "\n",
    "    # Método para que el cliente realice una compra de un producto dado una cantidad\n",
    "    def realizar_compra(self, producto, cantidad):\n",
    "        # Verifica si hay suficiente stock para la compra\n",
    "        if producto.stock >= cantidad:\n",
    "            # Calcula el costo total de la compra\n",
    "            costo_total = producto.precio * cantidad\n",
    "            # Verifica si el cliente tiene saldo suficiente para realizar la compra\n",
    "            if self.saldo >= costo_total:\n",
    "                # Actualiza el stock del producto y descuenta el saldo del cliente\n",
    "                producto.actualizar_stock(-cantidad)\n",
    "                self.saldo -= costo_total\n",
    "                # Muestra un mensaje de confirmación de la compra\n",
    "                print(f\"Compra realizada: {cantidad} {producto.nombre}\")\n",
    "            else:\n",
    "                # Muestra un mensaje de saldo insuficiente\n",
    "                print(\"Saldo insuficiente para realizar la compra\")\n",
    "        else:\n",
    "            # Muestra un mensaje de stock insuficiente\n",
    "            print(\"Stock insuficiente para realizar la compra\")\n",
    "\n",
    "    # Método para mostrar la información del cliente\n",
    "    def mostrar_informacion(self):\n",
    "        # Imprime el nombre, dirección y saldo del cliente\n",
    "        print(f\"Nombre: {self.nombre}, Dirección: {self.direccion}, Saldo: ${self.saldo}\")\n",
    "\n",
    "\n",
    "# Creación de algunos productos y clientes de ejemplo\n",
    "producto1 = Producto(\"Camiseta\", 20, 50)\n",
    "producto2 = Producto(\"Pantalón\", 30, 30)\n",
    "\n",
    "cliente1 = Cliente(\"Juan\", \"Calle 123\", 100)\n",
    "cliente2 = Cliente(\"María\", \"Avenida 456\", 150)\n",
    "\n",
    "# Mostrar información de los productos y clientes\n",
    "producto1.mostrar_informacion()\n",
    "producto2.mostrar_informacion()\n",
    "\n",
    "cliente1.mostrar_informacion()\n",
    "cliente2.mostrar_informacion()\n",
    "\n",
    "# Simulación de una compra\n",
    "cliente1.realizar_compra(producto1, 3)\n",
    "producto1.mostrar_informacion()\n",
    "cliente1.mostrar_informacion()\n",
    "\n",
    "cliente2.realizar_compra(producto2, 2)\n",
    "producto2.mostrar_informacion()\n",
    "cliente2.mostrar_informacion()\n",
    "\n"
   ]
  },
  {
   "cell_type": "code",
   "execution_count": 12,
   "metadata": {},
   "outputs": [
    {
     "data": {
      "text/plain": [
       "'Elvis tiene 35 años a la fecha'"
      ]
     },
     "execution_count": 12,
     "metadata": {},
     "output_type": "execute_result"
    }
   ],
   "source": [
    "#EXERCISE 4\n",
    "#Crear una clase persona que incluya atributos como nombre , pais y fecha de nacimiento\n",
    "#Implementa un metodo para determinar edad de la persona \n",
    "\n",
    "\n",
    "from datetime import datetime\n",
    "\n",
    "class Persona:\n",
    "    def __init__(self,nombre, pais,nacimiento):\n",
    "        self.nombre=nombre\n",
    "        self.pais=pais\n",
    "        self.nacimiento=nacimiento\n",
    "    def edad_persona(self):\n",
    "        fecha_actual = str(datetime.now().date())\n",
    "        subcadena = fecha_actual.split(\"-\")\n",
    "        a,m,d=subcadena\n",
    "        datos_nacimiento=self.nacimiento.split(\"-\")\n",
    "        ap,mp,dp=datos_nacimiento\n",
    "        if m>mp and d>dp:\n",
    "            años=int(a)-int(ap)\n",
    "            return f\"{self.nombre} tiene {años} años a la fecha\"\n",
    "        else:\n",
    "            años=(int(a)-int(ap))-1\n",
    "            return f\"{self.nombre} tiene {años} años a la fecha\"\n",
    "        \n",
    "persona_1=Persona(\"Elvis\",\"Peru\",\"1988-07-28\")\n",
    "persona_1.edad_persona()\n",
    "\n",
    "    "
   ]
  },
  {
   "cell_type": "code",
   "execution_count": 21,
   "metadata": {},
   "outputs": [
    {
     "name": "stdout",
     "output_type": "stream",
     "text": [
      "31.42\n",
      "78.54\n"
     ]
    }
   ],
   "source": [
    "#EXERCISE 5\n",
    "#crea clase que representa una forma e incluir metodos para calcular su perimetro y area\n",
    "#crear subclases para circulo, triangulo,cuadrado\n",
    "import math\n",
    "\n",
    "class Forma_geometrica:\n",
    "    def __init__(self):\n",
    "        pass\n",
    "    def perimetro(self):\n",
    "        pass\n",
    "    def area(self):\n",
    "        pass\n",
    "\n",
    "class Circulo(Forma_geometrica):\n",
    "    def __init__(self,radio):\n",
    "        super().__init__()\n",
    "        self.radio = radio\n",
    "    def perimetro(self):\n",
    "        super().perimetro()\n",
    "        per=2*self.radio*math.pi\n",
    "        return round(per,2)\n",
    "    def area(self):\n",
    "        super().area()\n",
    "        are=math.pi*(self.radio**2)\n",
    "        return round(are,2)\n",
    "    \n",
    "class Cuadrado(Forma_geometrica):\n",
    "    def __init__(self,lado):\n",
    "        super().__init__()\n",
    "        self.lado = lado\n",
    "    def perimetro(self):\n",
    "        super().perimetro()\n",
    "        per=4*self.lado\n",
    "        return per\n",
    "    def area(self):\n",
    "        super().area()\n",
    "        are=(self.lado**2)\n",
    "        return are\n",
    "    \n",
    "class Triangulo(Forma_geometrica):\n",
    "    def __init__(self,altura,base,ladoa,ladob):\n",
    "        super().__init__()\n",
    "        self.altura = altura\n",
    "        self.base=base\n",
    "        self.ladoa=ladoa\n",
    "        self.ladob=ladob\n",
    "    def perimetro(self):\n",
    "        super().perimetro()\n",
    "        per=self.base+self.ladoa+self.ladob\n",
    "        return per\n",
    "    def area(self):\n",
    "        super().area()\n",
    "        are=(self.base*self.altura)/2\n",
    "        return round(are,2)\n",
    "\n",
    "circulo=Circulo(5)\n",
    "print(circulo.perimetro())\n",
    "print(circulo.area())\n",
    "\n"
   ]
  },
  {
   "cell_type": "code",
   "execution_count": null,
   "metadata": {},
   "outputs": [],
   "source": [
    "EJERCICIOS PARA EXAMEN"
   ]
  },
  {
   "cell_type": "code",
   "execution_count": 2,
   "metadata": {},
   "outputs": [
    {
     "name": "stdout",
     "output_type": "stream",
     "text": [
      "300 100\n"
     ]
    }
   ],
   "source": [
    "#Exercise 1: Create a Class with instance attributes\n",
    "\n",
    "#Write a Python program to create a Vehicle class with max_speed and mileage instance attributes.\n",
    "\n",
    "\n",
    "class Vehicle:\n",
    "        def __init__(self,velocidad_maxima,millas):\n",
    "                self.velocidad_maxima=velocidad_maxima\n",
    "                self.millas=millas\n",
    "\n",
    "chosicano=Vehicle(300,100)\n",
    "print(chosicano.velocidad_maxima , chosicano.millas)"
   ]
  },
  {
   "cell_type": "code",
   "execution_count": 4,
   "metadata": {},
   "outputs": [],
   "source": [
    "#Exercise 2 Create a Vehicle class without any variables and methods \n",
    "\n",
    "class Vehicle:\n",
    "    pass\n"
   ]
  },
  {
   "cell_type": "code",
   "execution_count": 16,
   "metadata": {},
   "outputs": [
    {
     "name": "stdout",
     "output_type": "stream",
     "text": [
      "The seating capacity of a School Volvo is 50 passengers\n"
     ]
    }
   ],
   "source": [
    "#Exercise 3:Create a Bus class that inherits from the Vehicle class. \n",
    "#Give the capacity argument of Bus.seating_capacity() a default value of 50.\n",
    "\n",
    "class Vehicle:\n",
    "    def __init__(self, name, max_speed, mileage):\n",
    "        self.name = name\n",
    "        self.max_speed = max_speed\n",
    "        self.mileage = mileage\n",
    "\n",
    "    def seating_capacity(self, capacity):\n",
    "        return f\"The seating capacity of a {self.name} is {capacity} passengers\"\n",
    "\n",
    "class Bus(Vehicle):\n",
    "    # assign default value to capacity\n",
    "    def seating_capacity(self, capacity=50):\n",
    "        return super().seating_capacity(capacity=50)\n",
    "\n",
    "School_bus = Bus(\"School Volvo\", 180, 12)\n",
    "print(School_bus.seating_capacity())\n",
    "    "
   ]
  },
  {
   "cell_type": "code",
   "execution_count": 27,
   "metadata": {},
   "outputs": [
    {
     "name": "stdout",
     "output_type": "stream",
     "text": [
      "color: Blanco, name:tico,max_speed: 100,mileage:400\n",
      "color: Blanco, name:chino,max_speed: 250,mileage:1000\n"
     ]
    }
   ],
   "source": [
    "#EXERCISE 5\n",
    "#Define a property that must have the same value for every class instance (object)\n",
    "#Define a class attribute”color” with a default value white. I.e., Every Vehicle should be white\n",
    "\n",
    "class Vehicle:\n",
    "    color=\"Blanco\"\n",
    "    def __init__(self, name, max_speed, mileage):\n",
    "        self.name = name\n",
    "        self.max_speed = max_speed\n",
    "        self.mileage = mileage\n",
    "\n",
    "class Bus(Vehicle):\n",
    "    pass\n",
    "class Car(Vehicle):\n",
    "    pass\n",
    "\n",
    "\n",
    "tico=Bus(\"tico\",100,400)\n",
    "print(f\"color: {tico.color}, name:{tico.name},max_speed: {tico.max_speed},mileage:{tico.mileage}\")\n",
    "\n",
    "chino=Car(\"chino\",250,1000)\n",
    "print(f\"color: {chino.color}, name:{chino.name},max_speed: {chino.max_speed},mileage:{chino.mileage}\")"
   ]
  },
  {
   "cell_type": "code",
   "execution_count": 28,
   "metadata": {},
   "outputs": [
    {
     "name": "stdout",
     "output_type": "stream",
     "text": [
      "Total Bus fare is: 5500.0\n"
     ]
    }
   ],
   "source": [
    "#EXERCISE 6\n",
    "#crear una clase de autobus infantil que hereda de la clase vehiculo\n",
    "#tarifa por defecto es seating capacity * 100 de cualquier vehiculo\n",
    "#si el vehiculo es un objeto de bus se agregara a la tarifa 10%\n",
    "#la capacidad de asiento de bus es 50 \n",
    "# hay que anular el metodo de tarifa de la clase vehiculo en la clase bus\n",
    "\n",
    "\n",
    "class Vehicle:\n",
    "    def __init__(self, name, mileage, capacity):\n",
    "        self.name = name\n",
    "        self.mileage = mileage\n",
    "        self.capacity = capacity\n",
    "\n",
    "    def fare(self):\n",
    "        return self.capacity * 100\n",
    "\n",
    "class Bus(Vehicle):\n",
    "    pass\n",
    "    def fare(self):\n",
    "        return super().fare()+0.1*(super().fare())\n",
    "\n",
    "School_bus = Bus(\"School Volvo\", 12, 50)\n",
    "print(\"Total Bus fare is:\", School_bus.fare())"
   ]
  }
 ],
 "metadata": {
  "kernelspec": {
   "display_name": "Python 3",
   "language": "python",
   "name": "python3"
  },
  "language_info": {
   "codemirror_mode": {
    "name": "ipython",
    "version": 3
   },
   "file_extension": ".py",
   "mimetype": "text/x-python",
   "name": "python",
   "nbconvert_exporter": "python",
   "pygments_lexer": "ipython3",
   "version": "3.10.11"
  }
 },
 "nbformat": 4,
 "nbformat_minor": 2
}
