{
 "cells": [
  {
   "cell_type": "code",
   "execution_count": 3,
   "metadata": {},
   "outputs": [],
   "source": [
    "\n",
    "#EJERCICIO 1\n",
    "\n",
    "#Crear un script con el nombre \"clase09_ej1.py\" que reciba 3 parametros a elección, \n",
    "#verificando que sean exactamente esa cantidad, y muestre como salida los parámetros recibidos\n",
    "\n",
    "# ver archivo py clase09_ejx.py\n"
   ]
  },
  {
   "cell_type": "code",
   "execution_count": 4,
   "metadata": {},
   "outputs": [
    {
     "name": "stdout",
     "output_type": "stream",
     "text": [
      "El tamaño del archivo sera 762 bytes\n"
     ]
    }
   ],
   "source": [
    "#EJERCICIO 4\n",
    "#Mostrar el tamaño en MB del archivo clase09_ejx.py\n",
    "import os\n",
    "\n",
    "nombre_archivo = \"clase09_ejx.py\"\n",
    "informacion = os.stat(nombre_archivo)\n",
    "\n",
    "tamanio_archivo = informacion.st_size\n",
    "\n",
    "print(f\"El tamaño del archivo sera {tamanio_archivo} bytes\")"
   ]
  },
  {
   "cell_type": "code",
   "execution_count": 6,
   "metadata": {},
   "outputs": [],
   "source": [
    "#EJERCICIO 5\n",
    "#Crear una carpeta llamada clase09_montañas_altas\n",
    "\n",
    "import os\n",
    "\n",
    "nombre_directorio = \"clase09_montañas_altas2\"\n",
    "os.mkdir(nombre_directorio)\n"
   ]
  },
  {
   "cell_type": "code",
   "execution_count": 7,
   "metadata": {},
   "outputs": [
    {
     "data": {
      "text/plain": [
       "0"
      ]
     },
     "execution_count": 7,
     "metadata": {},
     "output_type": "execute_result"
    }
   ],
   "source": [
    "#EJERCICIO 6\n",
    "#6) Copiar el archivo clase09_ejx.py en la carpeta clase09_montañas_altas2 usando la sentencia \n",
    "#**os.system**\n",
    "\n",
    "import os\n",
    "\n",
    "\n",
    "archivo_origen = \"clase09_ejx.py\"\n",
    "archivo_destino = \"clase09_ejxcopy.py\"\n",
    "\n",
    "\n",
    "comando_copia = f\"copy {archivo_origen} {archivo_destino}\"\n",
    "os.system(comando_copia)\n",
    "\n",
    "\n",
    "carpeta_destino= \"clase09_montañas_altas2\"\n",
    "\n",
    "\n",
    "comando_movimiento = f\"move {archivo_destino} {carpeta_destino}\"\n",
    "\n",
    "\n",
    "os.system(comando_movimiento)\n"
   ]
  },
  {
   "cell_type": "code",
   "execution_count": 10,
   "metadata": {},
   "outputs": [
    {
     "name": "stdout",
     "output_type": "stream",
     "text": [
      "clase09_ejxcopy.py\n"
     ]
    }
   ],
   "source": [
    "#EJERCICIO 7\n",
    "\n",
    "#Listar el contenido de la carpeta clase09_montañas_altas2\n",
    "\n",
    "import os\n",
    "\n",
    "directorio = \"clase09_montañas_altas2\"\n",
    "archivos = os.listdir(directorio)\n",
    "\n",
    "for archivo in archivos:\n",
    "    print(archivo)\n"
   ]
  },
  {
   "cell_type": "code",
   "execution_count": 22,
   "metadata": {},
   "outputs": [
    {
     "name": "stdout",
     "output_type": "stream",
     "text": [
      "nombre\n",
      "Everest\n",
      "K2\n",
      "Kanchenjunga\n",
      "Lhotse\n",
      "Makalu\n",
      "Cho Oyu\n",
      "Dhaulagiri\n",
      "Manaslu\n",
      "Nanga Parbat\n",
      "Annapurna I\n",
      "orden\n",
      "1\n",
      "2\n",
      "3\n",
      "4\n",
      "5\n",
      "6\n",
      "7\n",
      "8\n",
      "9\n",
      "10\n",
      "cordillera\n",
      "Himalaya\n",
      "Karakórum\n",
      "Himalaya\n",
      "Himalaya\n",
      "Himalaya\n",
      "Himalaya\n",
      "Himalaya\n",
      "Himalaya\n",
      "Karakórum\n",
      "Himalaya\n",
      "pais\n",
      "Nepal\n",
      "Pakistán\n",
      "Nepal\n",
      "Nepal\n",
      "Nepal\n",
      "Nepal\n",
      "Nepal\n",
      "Nepal\n",
      "Pakistán\n",
      "Nepal\n",
      "altura\n",
      "8849\n",
      "8611\n",
      "8586\n",
      "8516\n",
      "8485\n",
      "8188\n",
      "8167\n",
      "8163\n",
      "8125\n",
      "8091\n",
      "La salida se ha escrito en el archivo 'clase09_ej3(2).csv'\n"
     ]
    }
   ],
   "source": [
    "#EJERCICIO 3\n",
    "\n",
    "#Crear un archivo a partir de los datos presentes en el diccionario provisto. El cual debe contener \n",
    "#en la primera fila el nombre de las claves y luego cada línea los elementos i-ésimos de las listas \n",
    "#de valores contiguos y separados por coma ','. Este archivo debe llamarse clase09_ej3.csv\n",
    "\n",
    "montañas = {'nombre':[  'Everest','K2','Kanchenjunga','Lhotse','Makalu',\n",
    "                        'Cho Oyu','Dhaulagiri','Manaslu','Nanga Parbat','Annapurna I'],\n",
    "            'orden':[1,2,3,4,5,6,7,8,9,10],\n",
    "            'cordillera':['Himalaya','Karakórum','Himalaya','Himalaya','Himalaya'\n",
    "                        ,'Himalaya','Himalaya','Himalaya','Karakórum','Himalaya'],\n",
    "            'pais': ['Nepal','Pakistán','Nepal','Nepal','Nepal','Nepal','Nepal','Nepal',\n",
    "                    'Pakistán','Nepal'],\n",
    "            'altura':[8849,8611,8586,8516,8485,8188,8167,8163,8125,8091]}\n",
    "\n",
    "for clave,valor in montañas.items():\n",
    "    clav=clave\n",
    "    print(clav)\n",
    "    for dato in valor:\n",
    "        dat=dato\n",
    "        print(dat)\n",
    "\n",
    "resultado=\"\"\"nombre\n",
    "Everest\n",
    "K2\n",
    "Kanchenjunga\n",
    "Lhotse\n",
    "Makalu\n",
    "Cho Oyu\n",
    "Dhaulagiri\n",
    "Manaslu\n",
    "Nanga Parbat\n",
    "Annapurna I\n",
    "orden\n",
    "1\n",
    "2\n",
    "3\n",
    "4\n",
    "5\n",
    "6\n",
    "7\n",
    "8\n",
    "9\n",
    "10\n",
    "cordillera\n",
    "Himalaya\n",
    "Karakórum\n",
    "Himalaya\n",
    "Himalaya\n",
    "Himalaya\n",
    "Himalaya\n",
    "Himalaya\n",
    "Himalaya\n",
    "Karakórum\n",
    "Himalaya\n",
    "pais\n",
    "Nepal\n",
    "Pakistán\n",
    "Nepal\n",
    "Nepal\n",
    "Nepal\n",
    "Nepal\n",
    "Nepal\n",
    "Nepal\n",
    "Pakistán\n",
    "Nepal\n",
    "altura\n",
    "8849\n",
    "8611\n",
    "8586\n",
    "8516\n",
    "8485\n",
    "8188\n",
    "8167\n",
    "8163\n",
    "8125\n",
    "8091\n",
    "\"\"\"\n",
    "with open(\"clase09_ej3(2).csv\", \"w\") as archivo_salida:\n",
    "    # Escribir la salida en el archivo\n",
    "    archivo_salida.write(resultado)\n",
    "\n",
    "print(\"La salida se ha escrito en el archivo 'clase09_ej3(2).csv'\")\n"
   ]
  }
 ],
 "metadata": {
  "kernelspec": {
   "display_name": "Python 3",
   "language": "python",
   "name": "python3"
  },
  "language_info": {
   "codemirror_mode": {
    "name": "ipython",
    "version": 3
   },
   "file_extension": ".py",
   "mimetype": "text/x-python",
   "name": "python",
   "nbconvert_exporter": "python",
   "pygments_lexer": "ipython3",
   "version": "3.10.11"
  }
 },
 "nbformat": 4,
 "nbformat_minor": 2
}
